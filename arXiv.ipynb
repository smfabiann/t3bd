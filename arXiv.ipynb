{
 "cells": [
  {
   "cell_type": "code",
   "execution_count": 1,
   "id": "dca4f66b-55ff-4f9f-87c9-0e2fa416bfb8",
   "metadata": {},
   "outputs": [],
   "source": [
    "import json\n",
    "from pymongo import MongoClient\n",
    "from concurrent.futures import ThreadPoolExecutor\n",
    "from tqdm import tqdm"
   ]
  },
  {
   "cell_type": "code",
   "execution_count": null,
   "id": "deb52b52-1b1a-477e-a65b-990fdfefc295",
   "metadata": {},
   "outputs": [],
   "source": [
    "# === Configuración ===\n",
    "json_file_path = \"dataset/arxiv-metadata-oai-snapshot.json\"\n",
    "batch_size = 100\n",
    "max_workers = 4  # Ajusta según tu CPU y MongoDB"
   ]
  },
  {
   "cell_type": "code",
   "execution_count": 3,
   "id": "9f6932e2-13f1-4607-b127-11aa8c5e03f8",
   "metadata": {},
   "outputs": [],
   "source": [
    "# === Conectar a MongoDB ===\n",
    "client = MongoClient(\n",
    "    'mongodb://localhost:30001,localhost:30002,localhost:30003/?replicaSet=my-replica-set'\n",
    ")\n",
    "db = client[\"arxiv_db\"]\n",
    "collection = db[\"articles\"]"
   ]
  },
  {
   "cell_type": "code",
   "execution_count": 4,
   "id": "cd2cf907-082f-4580-8ad7-625bc313cb3f",
   "metadata": {},
   "outputs": [],
   "source": [
    "# === Función para insertar lote ===\n",
    "def insert_batch(batch):\n",
    "    try:\n",
    "        collection.insert_many(batch, ordered=False)\n",
    "    except Exception as e:\n",
    "        print(\"Error al insertar batch:\", e)"
   ]
  },
  {
   "cell_type": "code",
   "execution_count": 5,
   "id": "f4fbf1b3-952b-4ccd-bee1-5928d340335a",
   "metadata": {},
   "outputs": [],
   "source": [
    "# === Contar líneas para tqdm ===\n",
    "def count_lines(filepath):\n",
    "    with open(filepath, 'r', encoding='utf-8') as f:\n",
    "        return sum(1 for _ in f)\n",
    "\n",
    "total_lines = count_lines(json_file_path)"
   ]
  },
  {
   "cell_type": "code",
   "execution_count": 6,
   "id": "f85753b3-faf8-4f40-bc2a-cdd6134cd019",
   "metadata": {},
   "outputs": [
    {
     "name": "stderr",
     "output_type": "stream",
     "text": [
      "Cargando:  74%|███████▍  | 2033469/2735264 [06:36<00:48, 14544.05it/s]IOStream.flush timed out\n",
      "Cargando:  74%|███████▍  | 2034921/2735264 [10:17<7:24:39, 26.25it/s] "
     ]
    },
    {
     "ename": "",
     "evalue": "",
     "output_type": "error",
     "traceback": [
      "\u001b[1;31mThe Kernel crashed while executing code in the current cell or a previous cell. \n",
      "\u001b[1;31mPlease review the code in the cell(s) to identify a possible cause of the failure. \n",
      "\u001b[1;31mClick <a href='https://aka.ms/vscodeJupyterKernelCrash'>here</a> for more info. \n",
      "\u001b[1;31mView Jupyter <a href='command:jupyter.viewOutput'>log</a> for further details."
     ]
    }
   ],
   "source": [
    "# === Lectura + carga paralela ===\n",
    "with open(json_file_path, 'r', encoding='utf-8') as f, tqdm(total=total_lines, desc=\"Cargando\") as pbar:\n",
    "    batch = []\n",
    "    futures = []\n",
    "    with ThreadPoolExecutor(max_workers=max_workers) as executor:\n",
    "        for line in f:\n",
    "            try:\n",
    "                record = json.loads(line)\n",
    "                # 👉 Agregar campo pdf_source\n",
    "                record[\"pdf_source\"] = f\"https://arxiv.org/pdf/{record['id']}\"\n",
    "                batch.append(record)\n",
    "                if len(batch) >= batch_size:\n",
    "                    future = executor.submit(insert_batch, batch)\n",
    "                    futures.append(future)\n",
    "                    batch = []\n",
    "            except json.JSONDecodeError:\n",
    "                continue\n",
    "            pbar.update(1)\n",
    "\n",
    "        # Último batch\n",
    "        if batch:\n",
    "            futures.append(executor.submit(insert_batch, batch))\n",
    "            pbar.update(len(batch))\n",
    "\n",
    "# === Esperar a que terminen todas las cargas ===\n",
    "for future in futures:\n",
    "    future.result()\n",
    "print(\"✅ Carga paralela completa.\")"
   ]
  },
  {
   "cell_type": "code",
   "execution_count": 13,
   "id": "bd426c95-495f-4859-b0d1-d6603c19d047",
   "metadata": {},
   "outputs": [
    {
     "name": "stdout",
     "output_type": "stream",
     "text": [
      "🗑️ Todos los documentos eliminados.\n"
     ]
    }
   ],
   "source": [
    "'''\n",
    "from pymongo import MongoClient\n",
    "\n",
    "client = MongoClient(\"mongodb://localhost:27018/\")\n",
    "db = client[\"arxiv_db\"]\n",
    "collection = db[\"articles\"]\n",
    "\n",
    "# ⚠️ Eliminar todos los documentos\n",
    "collection.delete_many({})\n",
    "print(\"🗑️ Todos los documentos eliminados.\")\n",
    "'''"
   ]
  },
  {
   "cell_type": "code",
   "execution_count": null,
   "id": "b21d42b4-cefd-439d-9526-3400ef5bc645",
   "metadata": {},
   "outputs": [],
   "source": []
  }
 ],
 "metadata": {
  "kernelspec": {
   "display_name": "Python 3",
   "language": "python",
   "name": "python3"
  },
  "language_info": {
   "codemirror_mode": {
    "name": "ipython",
    "version": 3
   },
   "file_extension": ".py",
   "mimetype": "text/x-python",
   "name": "python",
   "nbconvert_exporter": "python",
   "pygments_lexer": "ipython3",
   "version": "3.10.12"
  }
 },
 "nbformat": 4,
 "nbformat_minor": 5
}
