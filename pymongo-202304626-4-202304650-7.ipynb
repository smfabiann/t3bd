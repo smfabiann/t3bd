{
 "cells": [
  {
   "cell_type": "markdown",
   "metadata": {},
   "source": [
    "## Primera Etapa\n",
    "Instalación de las librerías necesarias"
   ]
  },
  {
   "cell_type": "code",
   "execution_count": null,
   "metadata": {},
   "outputs": [],
   "source": [
    "#pip install pymongo\n",
    "#pip install dnspython"
   ]
  },
  {
   "cell_type": "markdown",
   "metadata": {},
   "source": [
    "## Se crea la wea de base de datos y los articulos"
   ]
  },
  {
   "cell_type": "code",
   "execution_count": 1,
   "metadata": {},
   "outputs": [
    {
     "name": "stdout",
     "output_type": "stream",
     "text": [
      "Ping result: {'ok': 1.0, '$clusterTime': {'clusterTime': Timestamp(1749487575, 1), 'signature': {'hash': b'\\x00\\x00\\x00\\x00\\x00\\x00\\x00\\x00\\x00\\x00\\x00\\x00\\x00\\x00\\x00\\x00\\x00\\x00\\x00\\x00', 'keyId': 0}}, 'operationTime': Timestamp(1749487575, 1)}\n",
      "Conexión exitosa a MongoDB\n"
     ]
    }
   ],
   "source": [
    "from pymongo import MongoClient\n",
    "\n",
    "# se chequea que hay conexión a MongoDB\n",
    "try:\n",
    "    client = MongoClient(\n",
    "        'mongodb://localhost:30001,localhost:30002,localhost:30003/?replicaSet=my-replica-set'\n",
    "    )\n",
    "    result = client.admin.command('ping')\n",
    "    print(\"Ping result:\", result)\n",
    "    print(\"Conexión exitosa a MongoDB\")\n",
    "except Exception as e:\n",
    "    print(\"Error:\", e)"
   ]
  },
  {
   "cell_type": "markdown",
   "metadata": {},
   "source": [
    "## Insertar datos"
   ]
  },
  {
   "cell_type": "markdown",
   "metadata": {},
   "source": [
    "Como la insercion de datos esta saturando la Ram del servidor, utilizaremos el modulo gc para forzar la liberacion de ram."
   ]
  },
  {
   "cell_type": "code",
   "execution_count": null,
   "metadata": {},
   "outputs": [
    {
     "name": "stdout",
     "output_type": "stream",
     "text": [
      "Inserción por lotes completada.\n"
     ]
    }
   ],
   "source": [
    "import json\n",
    "from pymongo import MongoClient\n",
    "import gc\n",
    "\n",
    "\n",
    "client = MongoClient(\n",
    "    'mongodb://localhost:30001,localhost:30002,localhost:30003/?replicaSet=my-replica-set'\n",
    ")\n",
    "db = client[\"arxiv_db\"]\n",
    "collection = db[\"articles\"]\n",
    "\n",
    "# Por cada 500 datos usará aproximadamente 8~9 GB de RAM\n",
    "batch_size = 500  # Ajusta según tu RAM\n",
    "\n",
    "def batch_insert(file_path, batch_size=500):\n",
    "    with open(file_path, \"r\") as f:\n",
    "        batch = []\n",
    "        for line in f:\n",
    "            if line.strip():\n",
    "                batch.append(json.loads(line))\n",
    "                if len(batch) == batch_size:\n",
    "                    collection.insert_many(batch)\n",
    "                    batch = []\n",
    "                    gc.collect()\n",
    "        if batch:\n",
    "            collection.insert_many(batch)\n",
    "            gc.collect()\n",
    "\n",
    "batch_insert(\"dataset/arxiv-metadata-oai-snapshot.json\", batch_size)\n",
    "print(\"Inserción por lotes completada.\")"
   ]
  },
  {
   "cell_type": "markdown",
   "metadata": {},
   "source": [
    "## Consulta"
   ]
  },
  {
   "cell_type": "markdown",
   "metadata": {},
   "source": [
    "Se haran las consultas pedidas en la tarea"
   ]
  },
  {
   "cell_type": "markdown",
   "metadata": {},
   "source": [
    "a) Primera consulta"
   ]
  },
  {
   "cell_type": "code",
   "execution_count": null,
   "metadata": {},
   "outputs": [
    {
     "name": "stdout",
     "output_type": "stream",
     "text": [
      "                                                title update_date\n",
      "0   Hamiltonian Graphs and the Traveling Salesman ...  2025-02-26\n",
      "1   Spin-dependent three-nucleon force effects on ...  2025-03-20\n",
      "2   Adjointability of densely defined closed opera...  2025-04-29\n",
      "3                         Proof of Riemann Hypothesis  2025-04-11\n",
      "4   Critical fluctuations of time-dependent magnet...  2025-01-06\n",
      "5   Gauss--Berezin integral operators and spinors ...  2025-02-11\n",
      "6                The nature of electromagnetic energy  2025-05-16\n",
      "7   Periodic relativity: the theory of gravity in ...  2025-01-16\n",
      "8      Quantization of Atomic and Nuclear Rest Masses  2025-02-08\n",
      "9   Solution of the equation d/dx(pdu/dx)+qu=cu by...  2025-05-06\n",
      "10  The role of the quark and gluon GPDs in hard v...  2025-01-22\n",
      "11  A new weak approximation scheme of stochastic ...  2025-04-28\n",
      "12  Strict essential extensions of C*-algebras and...  2025-04-29\n",
      "13     Rationalization of EPR Coincidence Experiments  2025-04-03\n",
      "14                  Hard exclusive scattering at Jlab  2025-01-22\n",
      "15  Ganea and Whitehead definitions for the tangen...  2025-03-11\n",
      "16                   Generating functions for borders  2025-03-04\n",
      "17  Observation of correlations up to the micromet...  2025-01-08\n",
      "18  Form factors and other measures of strangeness...  2025-01-22\n",
      "19          Data Tables for Lorentz and CPT Violation  2025-01-14\n"
     ]
    }
   ],
   "source": [
    "from pymongo import MongoClient\n",
    "from pandas import DataFrame\n",
    "\n",
    "client = MongoClient(\n",
    "    'mongodb://localhost:30001,localhost:30002,localhost:30003/?replicaSet=my-replica-set'\n",
    ")\n",
    "db = client[\"arxiv_db\"]\n",
    "collection = db[\"articles\"]\n",
    "\n",
    "consulta = {\"update_date\": {\"$regex\": \"^2025\"}}\n",
    "parametros = {\"title\": 1, \"update_date\": 1, \"_id\": 0}\n",
    "\n",
    "# usamos list porque head() se come unos resultados\n",
    "docs = list(collection.find(consulta, parametros).limit(20))\n",
    "df = DataFrame(docs)\n",
    "print(df)"
   ]
  },
  {
   "cell_type": "markdown",
   "metadata": {},
   "source": [
    "b. Devolver los títulos y los autores de artículos que pertenezcan a las categorías \"cs.AI\"\n",
    "o \"stat.ML\" y que tengan al menos tres autores. Mostrar solo esos campos y limitar a los\n",
    "primeros 10 resultados."
   ]
  },
  {
   "cell_type": "code",
   "execution_count": 20,
   "metadata": {},
   "outputs": [
    {
     "name": "stdout",
     "output_type": "stream",
     "text": [
      "                                             authors  \\\n",
      "0  Tarik Hadzic, Rune Moller Jensen, Henrik Reif ...   \n",
      "1  Stefano Bistarelli, Ugo Montanari, Francesca R...   \n",
      "2  Juliana S Bernardes, Alberto Davila, Vitor San...   \n",
      "3  Giorgio Terracina, Nicola Leone, Vincenzino Li...   \n",
      "4               S. Mohamed, D. Rubin, and T. Marwala   \n",
      "5                   J. Uglov, V. Schetinin, C. Maple   \n",
      "6  Christian Gagn\\'e (INFORMATIQUE WGZ INC.), Mic...   \n",
      "7  Edgar H. de Graaf, Joost N. Kok, Walter A. Kos...   \n",
      "8  Edgar H. de Graaf, Joost N. Kok, Walter A. Kos...   \n",
      "9  Nicolas Godzik (INRIA Futurs, INRIA Rocquencou...   \n",
      "\n",
      "                                               title  \n",
      "0  Calculating Valid Domains for BDD-Based Intera...  \n",
      "1  Unicast and Multicast Qos Routing with Soft Co...  \n",
      "2  A study of structural properties on profiles HMMs  \n",
      "3  Experimenting with recursive queries in databa...  \n",
      "4  An Adaptive Strategy for the Classification of...  \n",
      "5  Comparing Robustness of Pairwise and Multiclas...  \n",
      "6  Ensemble Learning for Free with Evolutionary A...  \n",
      "7  Clustering Co-occurrence of Maximal Frequent P...  \n",
      "8  Clustering with Lattices in the Analysis of Gr...  \n",
      "9                      Evolving Symbolic Controllers  \n"
     ]
    }
   ],
   "source": [
    "from pymongo import MongoClient\n",
    "import pandas as pd\n",
    "pd.set_option('display.max_colwidth', 50)\n",
    "\n",
    "client = MongoClient(\n",
    "    'mongodb://localhost:30001,localhost:30002,localhost:30003/?replicaSet=my-replica-set'\n",
    ")\n",
    "db = client[\"arxiv_db\"]\n",
    "collection = db[\"articles\"]\n",
    "\n",
    "# parametros de consulta\n",
    "consulta = {\"categories\": {\"$regex\": \"cs.AI|stat.ML\"}, \"authors\":{\"$regex\":\".*,.*,\"}}\n",
    "parametros = {\"title\": 1, \"authors\": 1, \"_id\": 0}\n",
    "\n",
    "# se devuelven solo los primeros 10 resultados\n",
    "resultados = list(collection.find(consulta, parametros).limit(10))\n",
    "df = pd.DataFrame(resultados)\n",
    "print(df)"
   ]
  },
  {
   "cell_type": "markdown",
   "metadata": {},
   "source": [
    "c. Devolver los títulos, las categorías y los enlaces al PDF de artículos que pertenezcan a\n",
    "la categoría \"hep-ph\" y tengan un DOI asignado. Mostrar solo esos campos y limitar a 15\n",
    "resultados."
   ]
  },
  {
   "cell_type": "code",
   "execution_count": null,
   "metadata": {},
   "outputs": [
    {
     "name": "stdout",
     "output_type": "stream",
     "text": [
      "                                                title  \\\n",
      "0                  Lifetime of doubly charmed baryons   \n",
      "1   Scalar radius of the pion and zeros in the for...   \n",
      "2   Calculation of prompt diphoton production cros...   \n",
      "3   Probing non-standard neutrino interactions wit...   \n",
      "4   Understanding the Flavor Symmetry Breaking and...   \n",
      "5   Crystal channeling of LHC forward protons with...   \n",
      "6                    Strong decays of charmed baryons   \n",
      "7   Multiple Parton Scattering in Nuclei: Quark-qu...   \n",
      "8     Strong Phase and $D^0-D^0bar$ mixing at BES-III   \n",
      "9                       CP violation in beauty decays   \n",
      "10  Energy density for chiral lattice fermions wit...   \n",
      "11  Instanton Liquid at Finite Temperature and Che...   \n",
      "12  The Return of a Static Universe and the End of...   \n",
      "13       Unravelling the sbottom spin at the CERN LHC   \n",
      "14  Broadening the Higgs Boson with Right-Handed N...   \n",
      "\n",
      "                      categories  \n",
      "0                         hep-ph  \n",
      "1         hep-ph hep-lat nucl-th  \n",
      "2                         hep-ph  \n",
      "3                         hep-ph  \n",
      "4                         hep-ph  \n",
      "5                         hep-ph  \n",
      "6          hep-ph hep-ex nucl-ex  \n",
      "7                 hep-ph nucl-th  \n",
      "8                  hep-ex hep-ph  \n",
      "9                  hep-ph hep-ex  \n",
      "10                hep-lat hep-ph  \n",
      "11                        hep-ph  \n",
      "12  astro-ph gr-qc hep-ph hep-th  \n",
      "13                        hep-ph  \n",
      "14                        hep-ph  \n"
     ]
    }
   ],
   "source": [
    "from pymongo import MongoClient\n",
    "import pandas as pd\n",
    "\n",
    "pd.set_option('display.max_colwidth', 50)\n",
    "\n",
    "client = MongoClient(\n",
    "    'mongodb://localhost:30001,localhost:30002,localhost:30003/?replicaSet=my-replica-set'\n",
    ")\n",
    "db = client[\"arxiv_db\"]\n",
    "collection = db[\"articles\"]\n",
    "\n",
    "consulta = {\"categories\":{\"$regex\":\"hep-ph\"}, \"doi\":{\"$exists\":True, \"$ne\":None}}\n",
    "parametros = {\"title\":1, \"categories\":1, \"pdf_source\":1, \"_id\":0}\n",
    "\n",
    "resultados = list(collection.find(consulta, parametros).limit(15))\n",
    "\n",
    "print(pd.DataFrame(resultados))"
   ]
  },
  {
   "cell_type": "markdown",
   "metadata": {},
   "source": [
    "d. Devolver los títulos, nombres de los autores y la referencia de publicación (journal-ref)\n",
    "de los artículos que tengan un DOI asignado. Mostrar solo esos campos y ordenar los\n",
    "resultados alfabéticamente por título. Limitar a los primeros 20 resultados."
   ]
  },
  {
   "cell_type": "code",
   "execution_count": 27,
   "metadata": {},
   "outputs": [
    {
     "name": "stdout",
     "output_type": "stream",
     "text": [
      "                                              authors  \\\n",
      "0   Aleks Kissinger (University of Oxford), Vladim...   \n",
      "1              Oscar Henriksson and Christopher Rosen   \n",
      "2   Olga Zagovora (1), Fabian Fl\\\"ock (1), Claudia...   \n",
      "3   Stavros Mouslopoulos and Antonios Papazoglou (...   \n",
      "4     K.S. Babu, Jogesh C. Pati and Hanns Stremnitzer   \n",
      "5   Paola Bacigaluppi, R\\'emi Abgrall and Svetlana...   \n",
      "6                                       V. Karimipour   \n",
      "7                                  Gabriella De Lucia   \n",
      "8          Julie Nutini, Mark Schmidt and Warren Hare   \n",
      "9                   Matthieu Gaudet and Steve Arscott   \n",
      "10  Florentin Millour (MPIFR), Bruno Valat (FIZEAU...   \n",
      "11  Mo Houtti, Moyan Zhou, Loren Terveen, and Stev...   \n",
      "12                                    Emilio Elizalde   \n",
      "13                                       Adan Cabello   \n",
      "14  C. Cinelli, M. Barbieri, R. Perris, P. Matalon...   \n",
      "15  Shashank Gupta, Debarshi Das, C. Jebarathinam,...   \n",
      "16  Daniel Franzen (1), Saskia Nu\\~nez von Voigt (...   \n",
      "17  Veera Vimpari, Annakaisa Kultima, Perttu H\\\"am...   \n",
      "18  Bingqing Yu, Jacopo Tagliabue, Ciro Greco and ...   \n",
      "19                            K.S. Babu and S.M. Barr   \n",
      "\n",
      "                                                title  \\\n",
      "0      !-Graphs with Trivial Overlap are Context-Free   \n",
      "1   \"$1k_F$\" Singularities and Finite Density ABJM...   \n",
      "2   \"(Weitergeleitet von Journalistin)\": The Gende...   \n",
      "3                     \"+-+\" Brane Model Phenomenology   \n",
      "4   \"A Hint From the Inter-Family Mass Hierarchy: ...   \n",
      "5   \"A Posteriori\" Limited High Order and Robust R...   \n",
      "6   \"A Solvable Hamiltonian System\" Integrability ...   \n",
      "7   \"Ab initio\" models of galaxy formation: succes...   \n",
      "8   \"Active-set complexity\" of proximal gradient: ...   \n",
      "9   \"Actuation at a distance\" of microelectromecha...   \n",
      "10  \"Advanced\" data reduction for the AMBER instru...   \n",
      "11  \"All of the White People Went First\": How Vide...   \n",
      "12  \"All that matter ... in one Big Bang ...,\" & o...   \n",
      "13  \"All versus nothing\" inseparability for two ob...   \n",
      "14  \"All-versus-nothing\" nonlocality test of quant...   \n",
      "15  \"All-versus-nothing\" proof of genuine triparti...   \n",
      "16  \"Am I Private and If So, how Many?\" - Communic...   \n",
      "17  \"An Adapt-or-Die Type of Situation\": Perceptio...   \n",
      "18  \"An Image is Worth a Thousand Features\": Scala...   \n",
      "19  \"An SO(10) Solution to the Puzzle of Quark and...   \n",
      "\n",
      "                                          journal-ref  \n",
      "0                          EPTCS 181, 2015, pp. 16-31  \n",
      "1                                                None  \n",
      "2                                                None  \n",
      "3                                JHEP 0011 (2000) 018  \n",
      "4                         Phys.Rev.D51:2451-2462,1995  \n",
      "5                                                None  \n",
      "6                    J.Math.Phys. 38 (1997) 1577-1582  \n",
      "7                                                None  \n",
      "8                                                None  \n",
      "9                Appl. Phys. Lett. 100, 224103 (2012)  \n",
      "10                                               None  \n",
      "11                                               None  \n",
      "12                               Galaxies 2018, 6, 25  \n",
      "13                  Phys. Rev. Lett. 87 (2001) 010403  \n",
      "14                 Phys. Rev. Lett. 95, 240405 (2005)  \n",
      "15      Quantum Stud.: Math. Found. 9, 175-198 (2022)  \n",
      "16                                               None  \n",
      "17  Proc. ACM Hum.-Comput. Interact., Vol. 7, No. ...  \n",
      "18                                               None  \n",
      "19                    Phys.Rev.Lett.75:2088-2091,1995  \n"
     ]
    }
   ],
   "source": [
    "from pymongo import MongoClient\n",
    "import pandas as pd\n",
    "\n",
    "pd.set_option('display.max_colwidth', 50)\n",
    "\n",
    "client = MongoClient(\n",
    "    'mongodb://localhost:30001,localhost:30002,localhost:30003/?replicaSet=my-replica-set'\n",
    ")\n",
    "db = client[\"arxiv_db\"]\n",
    "collection = db[\"articles\"]\n",
    "\n",
    "consulta = {\"doi\":{\"$exists\":True,\"$ne\":None}}\n",
    "parametros = {\"title\":1, \"authors\":1, \"journal-ref\":1, \"_id\":0}\n",
    "\n",
    "resultados = list(collection.find(consulta, parametros).limit(20).sort(\"title\", 1))\n",
    "\n",
    "print(pd.DataFrame(resultados))"
   ]
  },
  {
   "cell_type": "markdown",
   "metadata": {},
   "source": [
    "e. Devolver los títulos y la fecha de la primera versión (versions.created) de los artículos\n",
    "enviados entre los años 2010 y 2015. Mostrar solo esos campos y limitar a los primeros 15\n",
    "resultados."
   ]
  },
  {
   "cell_type": "code",
   "execution_count": 29,
   "metadata": {},
   "outputs": [
    {
     "name": "stdout",
     "output_type": "stream",
     "text": [
      "                                                title  \\\n",
      "0   Strong Constraints to the Putative Planet Cand...   \n",
      "1   A landscape of non-supersymmetric AdS vacua on...   \n",
      "2   Arrested phase separation in reproducing bacte...   \n",
      "3               Mu-Tau Production at Hadron Colliders   \n",
      "4   New identities involving q-Euler polynomials o...   \n",
      "5   Rigid Symmetries and Conservation Laws in Non-...   \n",
      "6   A Comprehensive Analysis of Uncertainties Affe...   \n",
      "7   News on PHOTOS Monte Carlo: gamma^* -> pi^+ pi...   \n",
      "8                   Nonmeasurability in Banach spaces   \n",
      "9               Jet Shapes and Jet Algorithms in SCET   \n",
      "10  Testing product states, quantum Merlin-Arthur ...   \n",
      "11             Euclid Imaging Consortium Science Book   \n",
      "12           Bayesian Methods and Universal Darwinism   \n",
      "13  The quadratic character of 1+\\sqrt{2} and an e...   \n",
      "14  Topological properties of punctual Hilbert sch...   \n",
      "\n",
      "                                             versions  \n",
      "0   [{'version': 'v1', 'created': 'Fri, 1 Jan 2010...  \n",
      "1   [{'version': 'v1', 'created': 'Mon, 4 Jan 2010...  \n",
      "2   [{'version': 'v1', 'created': 'Mon, 4 Jan 2010...  \n",
      "3   [{'version': 'v1', 'created': 'Mon, 4 Jan 2010...  \n",
      "4   [{'version': 'v1', 'created': 'Mon, 4 Jan 2010...  \n",
      "5   [{'version': 'v1', 'created': 'Mon, 4 Jan 2010...  \n",
      "6   [{'version': 'v1', 'created': 'Sun, 3 Jan 2010...  \n",
      "7   [{'version': 'v1', 'created': 'Mon, 4 Jan 2010...  \n",
      "8   [{'version': 'v1', 'created': 'Mon, 4 Jan 2010...  \n",
      "9   [{'version': 'v1', 'created': 'Mon, 4 Jan 2010...  \n",
      "10  [{'version': 'v1', 'created': 'Mon, 4 Jan 2010...  \n",
      "11  [{'version': 'v1', 'created': 'Mon, 4 Jan 2010...  \n",
      "12  [{'version': 'v1', 'created': 'Mon, 4 Jan 2010...  \n",
      "13  [{'version': 'v1', 'created': 'Sun, 3 Jan 2010...  \n",
      "14  [{'version': 'v1', 'created': 'Sat, 2 Jan 2010...  \n"
     ]
    }
   ],
   "source": [
    "from pymongo import MongoClient\n",
    "import pandas as pd\n",
    "\n",
    "pd.set_option('display.max_colwidth', 50)\n",
    "\n",
    "client = MongoClient(\n",
    "    'mongodb://localhost:30001,localhost:30002,localhost:30003/?replicaSet=my-replica-set'\n",
    ")\n",
    "db = client[\"arxiv_db\"]\n",
    "collection = db[\"articles\"]\n",
    "\n",
    "# nos vamos a la primera version del articulo en el indice 0 del array\n",
    "consulta = {\"versions.0.created\":{\"$regex\":\"2010|2011|2012|2013|2014|2015\"}}\n",
    "parametros = {\"title\":1, \"versions\":1,\"_id\":0}\n",
    "\n",
    "resultados = list(collection.find(consulta, parametros).limit(15))\n",
    "\n",
    "print(pd.DataFrame(resultados))"
   ]
  },
  {
   "cell_type": "markdown",
   "metadata": {},
   "source": []
  },
  {
   "cell_type": "markdown",
   "metadata": {},
   "source": [
    "## Dropea la tabla"
   ]
  },
  {
   "cell_type": "code",
   "execution_count": 14,
   "metadata": {},
   "outputs": [],
   "source": [
    "from pymongo import MongoClient\n",
    "\n",
    "# Conexión a MongoDB\n",
    "client = MongoClient(\n",
    "    'mongodb://localhost:30001,localhost:30002,localhost:30003/?replicaSet=my-replica-set'\n",
    ")\n",
    "db = client[\"arxiv_db\"]\n",
    "collection = db[\"articles\"]\n",
    "collection.drop()\n"
   ]
  },
  {
   "cell_type": "markdown",
   "metadata": {},
   "source": [
    "## Tercera Etapa\n",
    "Consultar los datos"
   ]
  },
  {
   "cell_type": "code",
   "execution_count": 4,
   "metadata": {},
   "outputs": [
    {
     "name": "stdout",
     "output_type": "stream",
     "text": [
      "None\n"
     ]
    }
   ],
   "source": [
    "import pprint\n",
    "\n",
    "doc=collection.find_one()\n",
    "pprint.pprint(doc)"
   ]
  },
  {
   "cell_type": "code",
   "execution_count": 6,
   "metadata": {},
   "outputs": [],
   "source": [
    "list_cur = list(doc)\n",
    "df = DataFrame(doc)\n",
    "df.head()"
   ]
  }
 ],
 "metadata": {
  "kernelspec": {
   "display_name": "Python 3",
   "language": "python",
   "name": "python3"
  },
  "language_info": {
   "codemirror_mode": {
    "name": "ipython",
    "version": 3
   },
   "file_extension": ".py",
   "mimetype": "text/x-python",
   "name": "python",
   "nbconvert_exporter": "python",
   "pygments_lexer": "ipython3",
   "version": "3.10.12"
  }
 },
 "nbformat": 4,
 "nbformat_minor": 4
}
