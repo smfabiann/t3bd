{
 "cells": [
  {
   "cell_type": "markdown",
   "metadata": {},
   "source": [
    "## Primera Etapa\n",
    "Instalación de las librerías necesarias"
   ]
  },
  {
   "cell_type": "code",
   "execution_count": 13,
   "metadata": {},
   "outputs": [
    {
     "name": "stdout",
     "output_type": "stream",
     "text": [
      "Ping result: {'ok': 1.0, '$clusterTime': {'clusterTime': Timestamp(1749767975, 1), 'signature': {'hash': b'\\x00\\x00\\x00\\x00\\x00\\x00\\x00\\x00\\x00\\x00\\x00\\x00\\x00\\x00\\x00\\x00\\x00\\x00\\x00\\x00', 'keyId': 0}}, 'operationTime': Timestamp(1749767975, 1)}\n",
      "Conexión exitosa a MongoDB\n"
     ]
    }
   ],
   "source": [
    "from pymongo import MongoClient\n",
    "\n",
    "# se chequea que hay conexión a MongoDB\n",
    "try:\n",
    "    client = MongoClient(\n",
    "        'mongodb://localhost:30001,localhost:30002,localhost:30003/?replicaSet=my-replica-set'\n",
    "    )\n",
    "    result = client.admin.command('ping')\n",
    "    print(\"Ping result:\", result)\n",
    "    print(\"Conexión exitosa a MongoDB\")\n",
    "except Exception as e:\n",
    "    print(\"Error:\", e)"
   ]
  },
  {
   "cell_type": "markdown",
   "metadata": {},
   "source": [
    "## Consulta"
   ]
  },
  {
   "cell_type": "markdown",
   "metadata": {},
   "source": [
    "Se haran las consultas pedidas en la tarea"
   ]
  },
  {
   "cell_type": "markdown",
   "metadata": {},
   "source": [
    "a) Primera consulta"
   ]
  },
  {
   "cell_type": "code",
   "execution_count": 3,
   "metadata": {},
   "outputs": [
    {
     "name": "stdout",
     "output_type": "stream",
     "text": [
      "                                                title update_date\n",
      "0   Hamiltonian Graphs and the Traveling Salesman ...  2025-02-26\n",
      "1   Spin-dependent three-nucleon force effects on ...  2025-03-20\n",
      "2   Adjointability of densely defined closed opera...  2025-04-29\n",
      "3                         Proof of Riemann Hypothesis  2025-04-11\n",
      "4   Critical fluctuations of time-dependent magnet...  2025-01-06\n",
      "5   Gauss--Berezin integral operators and spinors ...  2025-02-11\n",
      "6                The nature of electromagnetic energy  2025-05-16\n",
      "7   Periodic relativity: the theory of gravity in ...  2025-01-16\n",
      "8      Quantization of Atomic and Nuclear Rest Masses  2025-02-08\n",
      "9   Solution of the equation d/dx(pdu/dx)+qu=cu by...  2025-05-06\n",
      "10  The role of the quark and gluon GPDs in hard v...  2025-01-22\n",
      "11  A new weak approximation scheme of stochastic ...  2025-04-28\n",
      "12  Strict essential extensions of C*-algebras and...  2025-04-29\n",
      "13     Rationalization of EPR Coincidence Experiments  2025-04-03\n",
      "14                  Hard exclusive scattering at Jlab  2025-01-22\n",
      "15  Ganea and Whitehead definitions for the tangen...  2025-03-11\n",
      "16                   Generating functions for borders  2025-03-04\n",
      "17  Observation of correlations up to the micromet...  2025-01-08\n",
      "18  Form factors and other measures of strangeness...  2025-01-22\n",
      "19  Toward a statistical mechanics of four letter ...  2025-02-13\n"
     ]
    }
   ],
   "source": [
    "from pymongo import MongoClient\n",
    "from pandas import DataFrame\n",
    "\n",
    "client = MongoClient(\n",
    "    'mongodb://localhost:30001,localhost:30002,localhost:30003/?replicaSet=my-replica-set'\n",
    ")\n",
    "db = client[\"arxiv_db\"]\n",
    "collection = db[\"articles\"]\n",
    "\n",
    "consulta = {\"update_date\": {\"$regex\": \"^2025\"}}\n",
    "parametros = {\"title\": 1, \"update_date\": 1, \"_id\": 0}\n",
    "\n",
    "# usamos list porque head() se come unos resultados\n",
    "docs = list(collection.find(consulta, parametros).limit(20))\n",
    "df = DataFrame(docs)\n",
    "print(df)"
   ]
  },
  {
   "cell_type": "markdown",
   "metadata": {},
   "source": [
    "b. Devolver los títulos y los autores de artículos que pertenezcan a las categorías \"cs.AI\"\n",
    "o \"stat.ML\" y que tengan al menos tres autores. Mostrar solo esos campos y limitar a los\n",
    "primeros 10 resultados."
   ]
  },
  {
   "cell_type": "code",
   "execution_count": 4,
   "metadata": {},
   "outputs": [
    {
     "name": "stdout",
     "output_type": "stream",
     "text": [
      "                                             authors  \\\n",
      "0  Tarik Hadzic, Rune Moller Jensen, Henrik Reif ...   \n",
      "1  Stefano Bistarelli, Ugo Montanari, Francesca R...   \n",
      "2  Juliana S Bernardes, Alberto Davila, Vitor San...   \n",
      "3  Giorgio Terracina, Nicola Leone, Vincenzino Li...   \n",
      "4               S. Mohamed, D. Rubin, and T. Marwala   \n",
      "5                   J. Uglov, V. Schetinin, C. Maple   \n",
      "6  Christian Gagn\\'e (INFORMATIQUE WGZ INC.), Mic...   \n",
      "7  Edgar H. de Graaf, Joost N. Kok, Walter A. Kos...   \n",
      "8  Edgar H. de Graaf, Joost N. Kok, Walter A. Kos...   \n",
      "9  Nicolas Godzik (INRIA Futurs, INRIA Rocquencou...   \n",
      "\n",
      "                                               title  \n",
      "0  Calculating Valid Domains for BDD-Based Intera...  \n",
      "1  Unicast and Multicast Qos Routing with Soft Co...  \n",
      "2  A study of structural properties on profiles HMMs  \n",
      "3  Experimenting with recursive queries in databa...  \n",
      "4  An Adaptive Strategy for the Classification of...  \n",
      "5  Comparing Robustness of Pairwise and Multiclas...  \n",
      "6  Ensemble Learning for Free with Evolutionary A...  \n",
      "7  Clustering Co-occurrence of Maximal Frequent P...  \n",
      "8  Clustering with Lattices in the Analysis of Gr...  \n",
      "9                      Evolving Symbolic Controllers  \n"
     ]
    }
   ],
   "source": [
    "from pymongo import MongoClient\n",
    "import pandas as pd\n",
    "pd.set_option('display.max_colwidth', 50)\n",
    "\n",
    "client = MongoClient(\n",
    "    'mongodb://localhost:30001,localhost:30002,localhost:30003/?replicaSet=my-replica-set'\n",
    ")\n",
    "db = client[\"arxiv_db\"]\n",
    "collection = db[\"articles\"]\n",
    "\n",
    "# parametros de consulta\n",
    "consulta = {\"categories\": {\"$regex\": \"cs.AI|stat.ML\"}, \"authors\":{\"$regex\":\".*,.*,\"}}\n",
    "parametros = {\"title\": 1, \"authors\": 1, \"_id\": 0}\n",
    "\n",
    "# se devuelven solo los primeros 10 resultados\n",
    "resultados = list(collection.find(consulta, parametros).limit(10))\n",
    "df = pd.DataFrame(resultados)\n",
    "print(df)"
   ]
  },
  {
   "cell_type": "markdown",
   "metadata": {},
   "source": [
    "c. Devolver los títulos, las categorías y los enlaces al PDF de artículos que pertenezcan a\n",
    "la categoría \"hep-ph\" y tengan un DOI asignado. Mostrar solo esos campos y limitar a 15\n",
    "resultados."
   ]
  },
  {
   "cell_type": "code",
   "execution_count": 5,
   "metadata": {},
   "outputs": [
    {
     "name": "stdout",
     "output_type": "stream",
     "text": [
      "                                                title              categories  \\\n",
      "0   Calculation of prompt diphoton production cros...                  hep-ph   \n",
      "1                  Lifetime of doubly charmed baryons                  hep-ph   \n",
      "2   Understanding the Flavor Symmetry Breaking and...                  hep-ph   \n",
      "3   Crystal channeling of LHC forward protons with...                  hep-ph   \n",
      "4   Probing non-standard neutrino interactions wit...                  hep-ph   \n",
      "5   Scalar radius of the pion and zeros in the for...  hep-ph hep-lat nucl-th   \n",
      "6                    Strong decays of charmed baryons   hep-ph hep-ex nucl-ex   \n",
      "7                       CP violation in beauty decays           hep-ph hep-ex   \n",
      "8   Energy density for chiral lattice fermions wit...          hep-lat hep-ph   \n",
      "9   Multiple Parton Scattering in Nuclei: Quark-qu...          hep-ph nucl-th   \n",
      "10    Strong Phase and $D^0-D^0bar$ mixing at BES-III           hep-ex hep-ph   \n",
      "11  Towards self-consistent definition of instanto...                  hep-ph   \n",
      "12  Instanton Liquid at Finite Temperature and Che...                  hep-ph   \n",
      "13   Hadrons in Medium -- Theory confronts experiment  nucl-th hep-ph nucl-ex   \n",
      "14  Very strong and slowly varying magnetic fields...                  hep-ph   \n",
      "\n",
      "                                           pdf_source  \n",
      "0   https://arxiv.org/pdf/Calculation_of_prompt_di...  \n",
      "1   https://arxiv.org/pdf/Lifetime_of_doubly_charm...  \n",
      "2   https://arxiv.org/pdf/Understanding_the_Flavor...  \n",
      "3   https://arxiv.org/pdf/Crystal_channeling_of_LH...  \n",
      "4   https://arxiv.org/pdf/Probing_non-standard_neu...  \n",
      "5   https://arxiv.org/pdf/Scalar_radius_of_the_pio...  \n",
      "6   https://arxiv.org/pdf/Strong_decays_of_charmed...  \n",
      "7   https://arxiv.org/pdf/CP_violation_in_beauty_d...  \n",
      "8   https://arxiv.org/pdf/Energy_density_for_chira...  \n",
      "9   https://arxiv.org/pdf/Multiple_Parton_Scatteri...  \n",
      "10  https://arxiv.org/pdf/Strong_Phase_and_$D^0-D^...  \n",
      "11  https://arxiv.org/pdf/Towards_self-consistent_...  \n",
      "12  https://arxiv.org/pdf/Instanton_Liquid_at_Fini...  \n",
      "13  https://arxiv.org/pdf/Hadrons_in_Medium_--_The...  \n",
      "14  https://arxiv.org/pdf/Very_strong_and_slowly_v...  \n"
     ]
    }
   ],
   "source": [
    "from pymongo import MongoClient\n",
    "import pandas as pd\n",
    "\n",
    "pd.set_option('display.max_colwidth', 50)\n",
    "\n",
    "client = MongoClient(\n",
    "    'mongodb://localhost:30001,localhost:30002,localhost:30003/?replicaSet=my-replica-set'\n",
    ")\n",
    "db = client[\"arxiv_db\"]\n",
    "collection = db[\"articles\"]\n",
    "\n",
    "consulta = {\"categories\":{\"$regex\":\"hep-ph\"}, \"doi\":{\"$exists\":True, \"$ne\":None}}\n",
    "parametros = {\"title\":1, \"categories\":1, \"pdf_source\":1, \"_id\":0}\n",
    "\n",
    "resultados = list(collection.find(consulta, parametros).limit(15))\n",
    "\n",
    "# Add PDF links to the DataFrame\n",
    "df = pd.DataFrame(resultados)\n",
    "df['pdf_source'] = df['title'].apply(lambda x: f\"https://arxiv.org/pdf/{x.replace(' ', '_')}.pdf\")\n",
    "\n",
    "print(df)"
   ]
  },
  {
   "cell_type": "markdown",
   "metadata": {},
   "source": [
    "d. Devolver los títulos, nombres de los autores y la referencia de publicación (journal-ref)\n",
    "de los artículos que tengan un DOI asignado. Mostrar solo esos campos y ordenar los\n",
    "resultados alfabéticamente por título. Limitar a los primeros 20 resultados."
   ]
  },
  {
   "cell_type": "code",
   "execution_count": 6,
   "metadata": {},
   "outputs": [
    {
     "ename": "KeyboardInterrupt",
     "evalue": "",
     "output_type": "error",
     "traceback": [
      "\u001b[1;31m---------------------------------------------------------------------------\u001b[0m",
      "\u001b[1;31mTimeoutError\u001b[0m                              Traceback (most recent call last)",
      "File \u001b[1;32m~\\AppData\\Local\\Packages\\PythonSoftwareFoundation.Python.3.10_qbz5n2kfra8p0\\LocalCache\\local-packages\\Python310\\site-packages\\pymongo\\network_layer.py:351\u001b[0m, in \u001b[0;36mreceive_data\u001b[1;34m(conn, length, deadline)\u001b[0m\n\u001b[0;32m    349\u001b[0m         conn\u001b[38;5;241m.\u001b[39mset_conn_timeout(short_timeout)\n\u001b[1;32m--> 351\u001b[0m     chunk_length \u001b[38;5;241m=\u001b[39m \u001b[43mconn\u001b[49m\u001b[38;5;241;43m.\u001b[39;49m\u001b[43mconn\u001b[49m\u001b[38;5;241;43m.\u001b[39;49m\u001b[43mrecv_into\u001b[49m\u001b[43m(\u001b[49m\u001b[43mmv\u001b[49m\u001b[43m[\u001b[49m\u001b[43mbytes_read\u001b[49m\u001b[43m:\u001b[49m\u001b[43m]\u001b[49m\u001b[43m)\u001b[49m\n\u001b[0;32m    352\u001b[0m \u001b[38;5;28;01mexcept\u001b[39;00m BLOCKING_IO_ERRORS:\n",
      "File \u001b[1;32m~\\AppData\\Local\\Packages\\PythonSoftwareFoundation.Python.3.10_qbz5n2kfra8p0\\LocalCache\\local-packages\\Python310\\site-packages\\pymongo\\network_layer.py:466\u001b[0m, in \u001b[0;36mNetworkingInterface.recv_into\u001b[1;34m(self, buffer)\u001b[0m\n\u001b[0;32m    465\u001b[0m \u001b[38;5;28;01mdef\u001b[39;00m\u001b[38;5;250m \u001b[39m\u001b[38;5;21mrecv_into\u001b[39m(\u001b[38;5;28mself\u001b[39m, buffer: \u001b[38;5;28mbytes\u001b[39m) \u001b[38;5;241m-\u001b[39m\u001b[38;5;241m>\u001b[39m \u001b[38;5;28mint\u001b[39m:\n\u001b[1;32m--> 466\u001b[0m     \u001b[38;5;28;01mreturn\u001b[39;00m \u001b[38;5;28;43mself\u001b[39;49m\u001b[38;5;241;43m.\u001b[39;49m\u001b[43mconn\u001b[49m\u001b[38;5;241;43m.\u001b[39;49m\u001b[43mrecv_into\u001b[49m\u001b[43m(\u001b[49m\u001b[43mbuffer\u001b[49m\u001b[43m)\u001b[49m\n",
      "\u001b[1;31mTimeoutError\u001b[0m: timed out",
      "\nDuring handling of the above exception, another exception occurred:\n",
      "\u001b[1;31mKeyboardInterrupt\u001b[0m                         Traceback (most recent call last)",
      "Cell \u001b[1;32mIn[6], line 15\u001b[0m\n\u001b[0;32m     12\u001b[0m consulta \u001b[38;5;241m=\u001b[39m {\u001b[38;5;124m\"\u001b[39m\u001b[38;5;124mdoi\u001b[39m\u001b[38;5;124m\"\u001b[39m:{\u001b[38;5;124m\"\u001b[39m\u001b[38;5;124m$exists\u001b[39m\u001b[38;5;124m\"\u001b[39m:\u001b[38;5;28;01mTrue\u001b[39;00m,\u001b[38;5;124m\"\u001b[39m\u001b[38;5;124m$ne\u001b[39m\u001b[38;5;124m\"\u001b[39m:\u001b[38;5;28;01mNone\u001b[39;00m}}\n\u001b[0;32m     13\u001b[0m parametros \u001b[38;5;241m=\u001b[39m {\u001b[38;5;124m\"\u001b[39m\u001b[38;5;124mtitle\u001b[39m\u001b[38;5;124m\"\u001b[39m:\u001b[38;5;241m1\u001b[39m, \u001b[38;5;124m\"\u001b[39m\u001b[38;5;124mauthors\u001b[39m\u001b[38;5;124m\"\u001b[39m:\u001b[38;5;241m1\u001b[39m, \u001b[38;5;124m\"\u001b[39m\u001b[38;5;124mjournal-ref\u001b[39m\u001b[38;5;124m\"\u001b[39m:\u001b[38;5;241m1\u001b[39m, \u001b[38;5;124m\"\u001b[39m\u001b[38;5;124m_id\u001b[39m\u001b[38;5;124m\"\u001b[39m:\u001b[38;5;241m0\u001b[39m}\n\u001b[1;32m---> 15\u001b[0m resultados \u001b[38;5;241m=\u001b[39m \u001b[38;5;28;43mlist\u001b[39;49m\u001b[43m(\u001b[49m\u001b[43mcollection\u001b[49m\u001b[38;5;241;43m.\u001b[39;49m\u001b[43mfind\u001b[49m\u001b[43m(\u001b[49m\u001b[43mconsulta\u001b[49m\u001b[43m,\u001b[49m\u001b[43m \u001b[49m\u001b[43mparametros\u001b[49m\u001b[43m)\u001b[49m\u001b[38;5;241;43m.\u001b[39;49m\u001b[43mlimit\u001b[49m\u001b[43m(\u001b[49m\u001b[38;5;241;43m20\u001b[39;49m\u001b[43m)\u001b[49m\u001b[38;5;241;43m.\u001b[39;49m\u001b[43msort\u001b[49m\u001b[43m(\u001b[49m\u001b[38;5;124;43m\"\u001b[39;49m\u001b[38;5;124;43mtitle\u001b[39;49m\u001b[38;5;124;43m\"\u001b[39;49m\u001b[43m,\u001b[49m\u001b[43m \u001b[49m\u001b[38;5;241;43m1\u001b[39;49m\u001b[43m)\u001b[49m\u001b[43m)\u001b[49m\n\u001b[0;32m     17\u001b[0m \u001b[38;5;28mprint\u001b[39m(pd\u001b[38;5;241m.\u001b[39mDataFrame(resultados))\n",
      "File \u001b[1;32m~\\AppData\\Local\\Packages\\PythonSoftwareFoundation.Python.3.10_qbz5n2kfra8p0\\LocalCache\\local-packages\\Python310\\site-packages\\pymongo\\synchronous\\cursor.py:1284\u001b[0m, in \u001b[0;36mCursor.__next__\u001b[1;34m(self)\u001b[0m\n\u001b[0;32m   1283\u001b[0m \u001b[38;5;28;01mdef\u001b[39;00m\u001b[38;5;250m \u001b[39m\u001b[38;5;21m__next__\u001b[39m(\u001b[38;5;28mself\u001b[39m) \u001b[38;5;241m-\u001b[39m\u001b[38;5;241m>\u001b[39m _DocumentType:\n\u001b[1;32m-> 1284\u001b[0m     \u001b[38;5;28;01mreturn\u001b[39;00m \u001b[38;5;28;43mself\u001b[39;49m\u001b[38;5;241;43m.\u001b[39;49m\u001b[43mnext\u001b[49m\u001b[43m(\u001b[49m\u001b[43m)\u001b[49m\n",
      "File \u001b[1;32m~\\AppData\\Local\\Packages\\PythonSoftwareFoundation.Python.3.10_qbz5n2kfra8p0\\LocalCache\\local-packages\\Python310\\site-packages\\pymongo\\synchronous\\cursor.py:1260\u001b[0m, in \u001b[0;36mCursor.next\u001b[1;34m(self)\u001b[0m\n\u001b[0;32m   1258\u001b[0m \u001b[38;5;28;01mif\u001b[39;00m \u001b[38;5;28mself\u001b[39m\u001b[38;5;241m.\u001b[39m_empty:\n\u001b[0;32m   1259\u001b[0m     \u001b[38;5;28;01mraise\u001b[39;00m \u001b[38;5;167;01mStopIteration\u001b[39;00m\n\u001b[1;32m-> 1260\u001b[0m \u001b[38;5;28;01mif\u001b[39;00m \u001b[38;5;28mlen\u001b[39m(\u001b[38;5;28mself\u001b[39m\u001b[38;5;241m.\u001b[39m_data) \u001b[38;5;129;01mor\u001b[39;00m \u001b[38;5;28;43mself\u001b[39;49m\u001b[38;5;241;43m.\u001b[39;49m\u001b[43m_refresh\u001b[49m\u001b[43m(\u001b[49m\u001b[43m)\u001b[49m:\n\u001b[0;32m   1261\u001b[0m     \u001b[38;5;28;01mreturn\u001b[39;00m \u001b[38;5;28mself\u001b[39m\u001b[38;5;241m.\u001b[39m_data\u001b[38;5;241m.\u001b[39mpopleft()\n\u001b[0;32m   1262\u001b[0m \u001b[38;5;28;01melse\u001b[39;00m:\n",
      "File \u001b[1;32m~\\AppData\\Local\\Packages\\PythonSoftwareFoundation.Python.3.10_qbz5n2kfra8p0\\LocalCache\\local-packages\\Python310\\site-packages\\pymongo\\synchronous\\cursor.py:1208\u001b[0m, in \u001b[0;36mCursor._refresh\u001b[1;34m(self)\u001b[0m\n\u001b[0;32m   1186\u001b[0m         \u001b[38;5;28;01mraise\u001b[39;00m InvalidOperation(\n\u001b[0;32m   1187\u001b[0m             \u001b[38;5;124m\"\u001b[39m\u001b[38;5;124mPassing a \u001b[39m\u001b[38;5;124m'\u001b[39m\u001b[38;5;124mhint\u001b[39m\u001b[38;5;124m'\u001b[39m\u001b[38;5;124m is required when using the min/max query\u001b[39m\u001b[38;5;124m\"\u001b[39m\n\u001b[0;32m   1188\u001b[0m             \u001b[38;5;124m\"\u001b[39m\u001b[38;5;124m option to ensure the query utilizes the correct index\u001b[39m\u001b[38;5;124m\"\u001b[39m\n\u001b[0;32m   1189\u001b[0m         )\n\u001b[0;32m   1190\u001b[0m     q \u001b[38;5;241m=\u001b[39m \u001b[38;5;28mself\u001b[39m\u001b[38;5;241m.\u001b[39m_query_class(\n\u001b[0;32m   1191\u001b[0m         \u001b[38;5;28mself\u001b[39m\u001b[38;5;241m.\u001b[39m_query_flags,\n\u001b[0;32m   1192\u001b[0m         \u001b[38;5;28mself\u001b[39m\u001b[38;5;241m.\u001b[39m_collection\u001b[38;5;241m.\u001b[39mdatabase\u001b[38;5;241m.\u001b[39mname,\n\u001b[1;32m   (...)\u001b[0m\n\u001b[0;32m   1206\u001b[0m         \u001b[38;5;28mself\u001b[39m\u001b[38;5;241m.\u001b[39m_exhaust,\n\u001b[0;32m   1207\u001b[0m     )\n\u001b[1;32m-> 1208\u001b[0m     \u001b[38;5;28;43mself\u001b[39;49m\u001b[38;5;241;43m.\u001b[39;49m\u001b[43m_send_message\u001b[49m\u001b[43m(\u001b[49m\u001b[43mq\u001b[49m\u001b[43m)\u001b[49m\n\u001b[0;32m   1209\u001b[0m \u001b[38;5;28;01melif\u001b[39;00m \u001b[38;5;28mself\u001b[39m\u001b[38;5;241m.\u001b[39m_id:  \u001b[38;5;66;03m# Get More\u001b[39;00m\n\u001b[0;32m   1210\u001b[0m     \u001b[38;5;28;01mif\u001b[39;00m \u001b[38;5;28mself\u001b[39m\u001b[38;5;241m.\u001b[39m_limit:\n",
      "File \u001b[1;32m~\\AppData\\Local\\Packages\\PythonSoftwareFoundation.Python.3.10_qbz5n2kfra8p0\\LocalCache\\local-packages\\Python310\\site-packages\\pymongo\\synchronous\\cursor.py:1102\u001b[0m, in \u001b[0;36mCursor._send_message\u001b[1;34m(self, operation)\u001b[0m\n\u001b[0;32m   1099\u001b[0m     \u001b[38;5;28;01mraise\u001b[39;00m InvalidOperation(\u001b[38;5;124m\"\u001b[39m\u001b[38;5;124mexhaust cursors do not support auto encryption\u001b[39m\u001b[38;5;124m\"\u001b[39m)\n\u001b[0;32m   1101\u001b[0m \u001b[38;5;28;01mtry\u001b[39;00m:\n\u001b[1;32m-> 1102\u001b[0m     response \u001b[38;5;241m=\u001b[39m \u001b[43mclient\u001b[49m\u001b[38;5;241;43m.\u001b[39;49m\u001b[43m_run_operation\u001b[49m\u001b[43m(\u001b[49m\n\u001b[0;32m   1103\u001b[0m \u001b[43m        \u001b[49m\u001b[43moperation\u001b[49m\u001b[43m,\u001b[49m\u001b[43m \u001b[49m\u001b[38;5;28;43mself\u001b[39;49m\u001b[38;5;241;43m.\u001b[39;49m\u001b[43m_unpack_response\u001b[49m\u001b[43m,\u001b[49m\u001b[43m \u001b[49m\u001b[43maddress\u001b[49m\u001b[38;5;241;43m=\u001b[39;49m\u001b[38;5;28;43mself\u001b[39;49m\u001b[38;5;241;43m.\u001b[39;49m\u001b[43m_address\u001b[49m\n\u001b[0;32m   1104\u001b[0m \u001b[43m    \u001b[49m\u001b[43m)\u001b[49m\n\u001b[0;32m   1105\u001b[0m \u001b[38;5;28;01mexcept\u001b[39;00m OperationFailure \u001b[38;5;28;01mas\u001b[39;00m exc:\n\u001b[0;32m   1106\u001b[0m     \u001b[38;5;28;01mif\u001b[39;00m exc\u001b[38;5;241m.\u001b[39mcode \u001b[38;5;129;01min\u001b[39;00m _CURSOR_CLOSED_ERRORS \u001b[38;5;129;01mor\u001b[39;00m \u001b[38;5;28mself\u001b[39m\u001b[38;5;241m.\u001b[39m_exhaust:\n\u001b[0;32m   1107\u001b[0m         \u001b[38;5;66;03m# Don't send killCursors because the cursor is already closed.\u001b[39;00m\n",
      "File \u001b[1;32m~\\AppData\\Local\\Packages\\PythonSoftwareFoundation.Python.3.10_qbz5n2kfra8p0\\LocalCache\\local-packages\\Python310\\site-packages\\pymongo\\_csot.py:119\u001b[0m, in \u001b[0;36mapply.<locals>.csot_wrapper\u001b[1;34m(self, *args, **kwargs)\u001b[0m\n\u001b[0;32m    117\u001b[0m         \u001b[38;5;28;01mwith\u001b[39;00m _TimeoutContext(timeout):\n\u001b[0;32m    118\u001b[0m             \u001b[38;5;28;01mreturn\u001b[39;00m func(\u001b[38;5;28mself\u001b[39m, \u001b[38;5;241m*\u001b[39margs, \u001b[38;5;241m*\u001b[39m\u001b[38;5;241m*\u001b[39mkwargs)\n\u001b[1;32m--> 119\u001b[0m \u001b[38;5;28;01mreturn\u001b[39;00m func(\u001b[38;5;28mself\u001b[39m, \u001b[38;5;241m*\u001b[39margs, \u001b[38;5;241m*\u001b[39m\u001b[38;5;241m*\u001b[39mkwargs)\n",
      "File \u001b[1;32m~\\AppData\\Local\\Packages\\PythonSoftwareFoundation.Python.3.10_qbz5n2kfra8p0\\LocalCache\\local-packages\\Python310\\site-packages\\pymongo\\synchronous\\mongo_client.py:1917\u001b[0m, in \u001b[0;36mMongoClient._run_operation\u001b[1;34m(self, operation, unpack_res, address)\u001b[0m\n\u001b[0;32m   1907\u001b[0m     operation\u001b[38;5;241m.\u001b[39mreset()  \u001b[38;5;66;03m# Reset op in case of retry.\u001b[39;00m\n\u001b[0;32m   1908\u001b[0m     \u001b[38;5;28;01mreturn\u001b[39;00m server\u001b[38;5;241m.\u001b[39mrun_operation(\n\u001b[0;32m   1909\u001b[0m         conn,\n\u001b[0;32m   1910\u001b[0m         operation,\n\u001b[1;32m   (...)\u001b[0m\n\u001b[0;32m   1914\u001b[0m         \u001b[38;5;28mself\u001b[39m,\n\u001b[0;32m   1915\u001b[0m     )\n\u001b[1;32m-> 1917\u001b[0m \u001b[38;5;28;01mreturn\u001b[39;00m \u001b[38;5;28;43mself\u001b[39;49m\u001b[38;5;241;43m.\u001b[39;49m\u001b[43m_retryable_read\u001b[49m\u001b[43m(\u001b[49m\n\u001b[0;32m   1918\u001b[0m \u001b[43m    \u001b[49m\u001b[43m_cmd\u001b[49m\u001b[43m,\u001b[49m\n\u001b[0;32m   1919\u001b[0m \u001b[43m    \u001b[49m\u001b[43moperation\u001b[49m\u001b[38;5;241;43m.\u001b[39;49m\u001b[43mread_preference\u001b[49m\u001b[43m,\u001b[49m\n\u001b[0;32m   1920\u001b[0m \u001b[43m    \u001b[49m\u001b[43moperation\u001b[49m\u001b[38;5;241;43m.\u001b[39;49m\u001b[43msession\u001b[49m\u001b[43m,\u001b[49m\u001b[43m  \u001b[49m\u001b[38;5;66;43;03m# type: ignore[arg-type]\u001b[39;49;00m\n\u001b[0;32m   1921\u001b[0m \u001b[43m    \u001b[49m\u001b[43maddress\u001b[49m\u001b[38;5;241;43m=\u001b[39;49m\u001b[43maddress\u001b[49m\u001b[43m,\u001b[49m\n\u001b[0;32m   1922\u001b[0m \u001b[43m    \u001b[49m\u001b[43mretryable\u001b[49m\u001b[38;5;241;43m=\u001b[39;49m\u001b[38;5;28;43misinstance\u001b[39;49m\u001b[43m(\u001b[49m\u001b[43moperation\u001b[49m\u001b[43m,\u001b[49m\u001b[43m \u001b[49m\u001b[43m_Query\u001b[49m\u001b[43m)\u001b[49m\u001b[43m,\u001b[49m\n\u001b[0;32m   1923\u001b[0m \u001b[43m    \u001b[49m\u001b[43moperation\u001b[49m\u001b[38;5;241;43m=\u001b[39;49m\u001b[43moperation\u001b[49m\u001b[38;5;241;43m.\u001b[39;49m\u001b[43mname\u001b[49m\u001b[43m,\u001b[49m\n\u001b[0;32m   1924\u001b[0m \u001b[43m\u001b[49m\u001b[43m)\u001b[49m\n",
      "File \u001b[1;32m~\\AppData\\Local\\Packages\\PythonSoftwareFoundation.Python.3.10_qbz5n2kfra8p0\\LocalCache\\local-packages\\Python310\\site-packages\\pymongo\\synchronous\\mongo_client.py:2026\u001b[0m, in \u001b[0;36mMongoClient._retryable_read\u001b[1;34m(self, func, read_pref, session, operation, address, retryable, operation_id)\u001b[0m\n\u001b[0;32m   2021\u001b[0m \u001b[38;5;66;03m# Ensure that the client supports retrying on reads and there is no session in\u001b[39;00m\n\u001b[0;32m   2022\u001b[0m \u001b[38;5;66;03m# transaction, otherwise, we will not support retry behavior for this call.\u001b[39;00m\n\u001b[0;32m   2023\u001b[0m retryable \u001b[38;5;241m=\u001b[39m \u001b[38;5;28mbool\u001b[39m(\n\u001b[0;32m   2024\u001b[0m     retryable \u001b[38;5;129;01mand\u001b[39;00m \u001b[38;5;28mself\u001b[39m\u001b[38;5;241m.\u001b[39moptions\u001b[38;5;241m.\u001b[39mretry_reads \u001b[38;5;129;01mand\u001b[39;00m \u001b[38;5;129;01mnot\u001b[39;00m (session \u001b[38;5;129;01mand\u001b[39;00m session\u001b[38;5;241m.\u001b[39min_transaction)\n\u001b[0;32m   2025\u001b[0m )\n\u001b[1;32m-> 2026\u001b[0m \u001b[38;5;28;01mreturn\u001b[39;00m \u001b[38;5;28;43mself\u001b[39;49m\u001b[38;5;241;43m.\u001b[39;49m\u001b[43m_retry_internal\u001b[49m\u001b[43m(\u001b[49m\n\u001b[0;32m   2027\u001b[0m \u001b[43m    \u001b[49m\u001b[43mfunc\u001b[49m\u001b[43m,\u001b[49m\n\u001b[0;32m   2028\u001b[0m \u001b[43m    \u001b[49m\u001b[43msession\u001b[49m\u001b[43m,\u001b[49m\n\u001b[0;32m   2029\u001b[0m \u001b[43m    \u001b[49m\u001b[38;5;28;43;01mNone\u001b[39;49;00m\u001b[43m,\u001b[49m\n\u001b[0;32m   2030\u001b[0m \u001b[43m    \u001b[49m\u001b[43moperation\u001b[49m\u001b[43m,\u001b[49m\n\u001b[0;32m   2031\u001b[0m \u001b[43m    \u001b[49m\u001b[43mis_read\u001b[49m\u001b[38;5;241;43m=\u001b[39;49m\u001b[38;5;28;43;01mTrue\u001b[39;49;00m\u001b[43m,\u001b[49m\n\u001b[0;32m   2032\u001b[0m \u001b[43m    \u001b[49m\u001b[43maddress\u001b[49m\u001b[38;5;241;43m=\u001b[39;49m\u001b[43maddress\u001b[49m\u001b[43m,\u001b[49m\n\u001b[0;32m   2033\u001b[0m \u001b[43m    \u001b[49m\u001b[43mread_pref\u001b[49m\u001b[38;5;241;43m=\u001b[39;49m\u001b[43mread_pref\u001b[49m\u001b[43m,\u001b[49m\n\u001b[0;32m   2034\u001b[0m \u001b[43m    \u001b[49m\u001b[43mretryable\u001b[49m\u001b[38;5;241;43m=\u001b[39;49m\u001b[43mretryable\u001b[49m\u001b[43m,\u001b[49m\n\u001b[0;32m   2035\u001b[0m \u001b[43m    \u001b[49m\u001b[43moperation_id\u001b[49m\u001b[38;5;241;43m=\u001b[39;49m\u001b[43moperation_id\u001b[49m\u001b[43m,\u001b[49m\n\u001b[0;32m   2036\u001b[0m \u001b[43m\u001b[49m\u001b[43m)\u001b[49m\n",
      "File \u001b[1;32m~\\AppData\\Local\\Packages\\PythonSoftwareFoundation.Python.3.10_qbz5n2kfra8p0\\LocalCache\\local-packages\\Python310\\site-packages\\pymongo\\_csot.py:119\u001b[0m, in \u001b[0;36mapply.<locals>.csot_wrapper\u001b[1;34m(self, *args, **kwargs)\u001b[0m\n\u001b[0;32m    117\u001b[0m         \u001b[38;5;28;01mwith\u001b[39;00m _TimeoutContext(timeout):\n\u001b[0;32m    118\u001b[0m             \u001b[38;5;28;01mreturn\u001b[39;00m func(\u001b[38;5;28mself\u001b[39m, \u001b[38;5;241m*\u001b[39margs, \u001b[38;5;241m*\u001b[39m\u001b[38;5;241m*\u001b[39mkwargs)\n\u001b[1;32m--> 119\u001b[0m \u001b[38;5;28;01mreturn\u001b[39;00m func(\u001b[38;5;28mself\u001b[39m, \u001b[38;5;241m*\u001b[39margs, \u001b[38;5;241m*\u001b[39m\u001b[38;5;241m*\u001b[39mkwargs)\n",
      "File \u001b[1;32m~\\AppData\\Local\\Packages\\PythonSoftwareFoundation.Python.3.10_qbz5n2kfra8p0\\LocalCache\\local-packages\\Python310\\site-packages\\pymongo\\synchronous\\mongo_client.py:1993\u001b[0m, in \u001b[0;36mMongoClient._retry_internal\u001b[1;34m(self, func, session, bulk, operation, is_read, address, read_pref, retryable, operation_id)\u001b[0m\n\u001b[0;32m   1956\u001b[0m \u001b[38;5;129m@_csot\u001b[39m\u001b[38;5;241m.\u001b[39mapply\n\u001b[0;32m   1957\u001b[0m \u001b[38;5;28;01mdef\u001b[39;00m\u001b[38;5;250m \u001b[39m\u001b[38;5;21m_retry_internal\u001b[39m(\n\u001b[0;32m   1958\u001b[0m     \u001b[38;5;28mself\u001b[39m,\n\u001b[1;32m   (...)\u001b[0m\n\u001b[0;32m   1967\u001b[0m     operation_id: Optional[\u001b[38;5;28mint\u001b[39m] \u001b[38;5;241m=\u001b[39m \u001b[38;5;28;01mNone\u001b[39;00m,\n\u001b[0;32m   1968\u001b[0m ) \u001b[38;5;241m-\u001b[39m\u001b[38;5;241m>\u001b[39m T:\n\u001b[0;32m   1969\u001b[0m \u001b[38;5;250m    \u001b[39m\u001b[38;5;124;03m\"\"\"Internal retryable helper for all client transactions.\u001b[39;00m\n\u001b[0;32m   1970\u001b[0m \n\u001b[0;32m   1971\u001b[0m \u001b[38;5;124;03m    :param func: Callback function we want to retry\u001b[39;00m\n\u001b[1;32m   (...)\u001b[0m\n\u001b[0;32m   1980\u001b[0m \u001b[38;5;124;03m    :return: Output of the calling func()\u001b[39;00m\n\u001b[0;32m   1981\u001b[0m \u001b[38;5;124;03m    \"\"\"\u001b[39;00m\n\u001b[0;32m   1982\u001b[0m     \u001b[38;5;28;01mreturn\u001b[39;00m \u001b[43m_ClientConnectionRetryable\u001b[49m\u001b[43m(\u001b[49m\n\u001b[0;32m   1983\u001b[0m \u001b[43m        \u001b[49m\u001b[43mmongo_client\u001b[49m\u001b[38;5;241;43m=\u001b[39;49m\u001b[38;5;28;43mself\u001b[39;49m\u001b[43m,\u001b[49m\n\u001b[0;32m   1984\u001b[0m \u001b[43m        \u001b[49m\u001b[43mfunc\u001b[49m\u001b[38;5;241;43m=\u001b[39;49m\u001b[43mfunc\u001b[49m\u001b[43m,\u001b[49m\n\u001b[0;32m   1985\u001b[0m \u001b[43m        \u001b[49m\u001b[43mbulk\u001b[49m\u001b[38;5;241;43m=\u001b[39;49m\u001b[43mbulk\u001b[49m\u001b[43m,\u001b[49m\n\u001b[0;32m   1986\u001b[0m \u001b[43m        \u001b[49m\u001b[43moperation\u001b[49m\u001b[38;5;241;43m=\u001b[39;49m\u001b[43moperation\u001b[49m\u001b[43m,\u001b[49m\n\u001b[0;32m   1987\u001b[0m \u001b[43m        \u001b[49m\u001b[43mis_read\u001b[49m\u001b[38;5;241;43m=\u001b[39;49m\u001b[43mis_read\u001b[49m\u001b[43m,\u001b[49m\n\u001b[0;32m   1988\u001b[0m \u001b[43m        \u001b[49m\u001b[43msession\u001b[49m\u001b[38;5;241;43m=\u001b[39;49m\u001b[43msession\u001b[49m\u001b[43m,\u001b[49m\n\u001b[0;32m   1989\u001b[0m \u001b[43m        \u001b[49m\u001b[43mread_pref\u001b[49m\u001b[38;5;241;43m=\u001b[39;49m\u001b[43mread_pref\u001b[49m\u001b[43m,\u001b[49m\n\u001b[0;32m   1990\u001b[0m \u001b[43m        \u001b[49m\u001b[43maddress\u001b[49m\u001b[38;5;241;43m=\u001b[39;49m\u001b[43maddress\u001b[49m\u001b[43m,\u001b[49m\n\u001b[0;32m   1991\u001b[0m \u001b[43m        \u001b[49m\u001b[43mretryable\u001b[49m\u001b[38;5;241;43m=\u001b[39;49m\u001b[43mretryable\u001b[49m\u001b[43m,\u001b[49m\n\u001b[0;32m   1992\u001b[0m \u001b[43m        \u001b[49m\u001b[43moperation_id\u001b[49m\u001b[38;5;241;43m=\u001b[39;49m\u001b[43moperation_id\u001b[49m\u001b[43m,\u001b[49m\n\u001b[1;32m-> 1993\u001b[0m \u001b[43m    \u001b[49m\u001b[43m)\u001b[49m\u001b[38;5;241;43m.\u001b[39;49m\u001b[43mrun\u001b[49m\u001b[43m(\u001b[49m\u001b[43m)\u001b[49m\n",
      "File \u001b[1;32m~\\AppData\\Local\\Packages\\PythonSoftwareFoundation.Python.3.10_qbz5n2kfra8p0\\LocalCache\\local-packages\\Python310\\site-packages\\pymongo\\synchronous\\mongo_client.py:2730\u001b[0m, in \u001b[0;36m_ClientConnectionRetryable.run\u001b[1;34m(self)\u001b[0m\n\u001b[0;32m   2728\u001b[0m \u001b[38;5;28mself\u001b[39m\u001b[38;5;241m.\u001b[39m_check_last_error(check_csot\u001b[38;5;241m=\u001b[39m\u001b[38;5;28;01mTrue\u001b[39;00m)\n\u001b[0;32m   2729\u001b[0m \u001b[38;5;28;01mtry\u001b[39;00m:\n\u001b[1;32m-> 2730\u001b[0m     \u001b[38;5;28;01mreturn\u001b[39;00m \u001b[38;5;28;43mself\u001b[39;49m\u001b[38;5;241;43m.\u001b[39;49m\u001b[43m_read\u001b[49m\u001b[43m(\u001b[49m\u001b[43m)\u001b[49m \u001b[38;5;28;01mif\u001b[39;00m \u001b[38;5;28mself\u001b[39m\u001b[38;5;241m.\u001b[39m_is_read \u001b[38;5;28;01melse\u001b[39;00m \u001b[38;5;28mself\u001b[39m\u001b[38;5;241m.\u001b[39m_write()\n\u001b[0;32m   2731\u001b[0m \u001b[38;5;28;01mexcept\u001b[39;00m ServerSelectionTimeoutError:\n\u001b[0;32m   2732\u001b[0m     \u001b[38;5;66;03m# The application may think the write was never attempted\u001b[39;00m\n\u001b[0;32m   2733\u001b[0m     \u001b[38;5;66;03m# if we raise ServerSelectionTimeoutError on the retry\u001b[39;00m\n\u001b[0;32m   2734\u001b[0m     \u001b[38;5;66;03m# attempt. Raise the original exception instead.\u001b[39;00m\n\u001b[0;32m   2735\u001b[0m     \u001b[38;5;28mself\u001b[39m\u001b[38;5;241m.\u001b[39m_check_last_error()\n",
      "File \u001b[1;32m~\\AppData\\Local\\Packages\\PythonSoftwareFoundation.Python.3.10_qbz5n2kfra8p0\\LocalCache\\local-packages\\Python310\\site-packages\\pymongo\\synchronous\\mongo_client.py:2891\u001b[0m, in \u001b[0;36m_ClientConnectionRetryable._read\u001b[1;34m(self)\u001b[0m\n\u001b[0;32m   2883\u001b[0m \u001b[38;5;28;01mif\u001b[39;00m \u001b[38;5;28mself\u001b[39m\u001b[38;5;241m.\u001b[39m_retrying:\n\u001b[0;32m   2884\u001b[0m     _debug_log(\n\u001b[0;32m   2885\u001b[0m         _COMMAND_LOGGER,\n\u001b[0;32m   2886\u001b[0m         message\u001b[38;5;241m=\u001b[39m\u001b[38;5;124mf\u001b[39m\u001b[38;5;124m\"\u001b[39m\u001b[38;5;124mRetrying read attempt number \u001b[39m\u001b[38;5;132;01m{\u001b[39;00m\u001b[38;5;28mself\u001b[39m\u001b[38;5;241m.\u001b[39m_attempt_number\u001b[38;5;132;01m}\u001b[39;00m\u001b[38;5;124m\"\u001b[39m,\n\u001b[1;32m   (...)\u001b[0m\n\u001b[0;32m   2889\u001b[0m         operationId\u001b[38;5;241m=\u001b[39m\u001b[38;5;28mself\u001b[39m\u001b[38;5;241m.\u001b[39m_operation_id,\n\u001b[0;32m   2890\u001b[0m     )\n\u001b[1;32m-> 2891\u001b[0m \u001b[38;5;28;01mreturn\u001b[39;00m \u001b[38;5;28;43mself\u001b[39;49m\u001b[38;5;241;43m.\u001b[39;49m\u001b[43m_func\u001b[49m\u001b[43m(\u001b[49m\u001b[38;5;28;43mself\u001b[39;49m\u001b[38;5;241;43m.\u001b[39;49m\u001b[43m_session\u001b[49m\u001b[43m,\u001b[49m\u001b[43m \u001b[49m\u001b[38;5;28;43mself\u001b[39;49m\u001b[38;5;241;43m.\u001b[39;49m\u001b[43m_server\u001b[49m\u001b[43m,\u001b[49m\u001b[43m \u001b[49m\u001b[43mconn\u001b[49m\u001b[43m,\u001b[49m\u001b[43m \u001b[49m\u001b[43mread_pref\u001b[49m\u001b[43m)\u001b[49m\n",
      "File \u001b[1;32m~\\AppData\\Local\\Packages\\PythonSoftwareFoundation.Python.3.10_qbz5n2kfra8p0\\LocalCache\\local-packages\\Python310\\site-packages\\pymongo\\synchronous\\mongo_client.py:1908\u001b[0m, in \u001b[0;36mMongoClient._run_operation.<locals>._cmd\u001b[1;34m(_session, server, conn, read_preference)\u001b[0m\n\u001b[0;32m   1901\u001b[0m \u001b[38;5;28;01mdef\u001b[39;00m\u001b[38;5;250m \u001b[39m\u001b[38;5;21m_cmd\u001b[39m(\n\u001b[0;32m   1902\u001b[0m     _session: Optional[ClientSession],\n\u001b[0;32m   1903\u001b[0m     server: Server,\n\u001b[0;32m   1904\u001b[0m     conn: Connection,\n\u001b[0;32m   1905\u001b[0m     read_preference: _ServerMode,\n\u001b[0;32m   1906\u001b[0m ) \u001b[38;5;241m-\u001b[39m\u001b[38;5;241m>\u001b[39m Response:\n\u001b[0;32m   1907\u001b[0m     operation\u001b[38;5;241m.\u001b[39mreset()  \u001b[38;5;66;03m# Reset op in case of retry.\u001b[39;00m\n\u001b[1;32m-> 1908\u001b[0m     \u001b[38;5;28;01mreturn\u001b[39;00m \u001b[43mserver\u001b[49m\u001b[38;5;241;43m.\u001b[39;49m\u001b[43mrun_operation\u001b[49m\u001b[43m(\u001b[49m\n\u001b[0;32m   1909\u001b[0m \u001b[43m        \u001b[49m\u001b[43mconn\u001b[49m\u001b[43m,\u001b[49m\n\u001b[0;32m   1910\u001b[0m \u001b[43m        \u001b[49m\u001b[43moperation\u001b[49m\u001b[43m,\u001b[49m\n\u001b[0;32m   1911\u001b[0m \u001b[43m        \u001b[49m\u001b[43mread_preference\u001b[49m\u001b[43m,\u001b[49m\n\u001b[0;32m   1912\u001b[0m \u001b[43m        \u001b[49m\u001b[38;5;28;43mself\u001b[39;49m\u001b[38;5;241;43m.\u001b[39;49m\u001b[43m_event_listeners\u001b[49m\u001b[43m,\u001b[49m\n\u001b[0;32m   1913\u001b[0m \u001b[43m        \u001b[49m\u001b[43munpack_res\u001b[49m\u001b[43m,\u001b[49m\n\u001b[0;32m   1914\u001b[0m \u001b[43m        \u001b[49m\u001b[38;5;28;43mself\u001b[39;49m\u001b[43m,\u001b[49m\n\u001b[0;32m   1915\u001b[0m \u001b[43m    \u001b[49m\u001b[43m)\u001b[49m\n",
      "File \u001b[1;32m~\\AppData\\Local\\Packages\\PythonSoftwareFoundation.Python.3.10_qbz5n2kfra8p0\\LocalCache\\local-packages\\Python310\\site-packages\\pymongo\\synchronous\\helpers.py:47\u001b[0m, in \u001b[0;36m_handle_reauth.<locals>.inner\u001b[1;34m(*args, **kwargs)\u001b[0m\n\u001b[0;32m     44\u001b[0m \u001b[38;5;28;01mfrom\u001b[39;00m\u001b[38;5;250m \u001b[39m\u001b[38;5;21;01mpymongo\u001b[39;00m\u001b[38;5;21;01m.\u001b[39;00m\u001b[38;5;21;01msynchronous\u001b[39;00m\u001b[38;5;21;01m.\u001b[39;00m\u001b[38;5;21;01mpool\u001b[39;00m\u001b[38;5;250m \u001b[39m\u001b[38;5;28;01mimport\u001b[39;00m Connection\n\u001b[0;32m     46\u001b[0m \u001b[38;5;28;01mtry\u001b[39;00m:\n\u001b[1;32m---> 47\u001b[0m     \u001b[38;5;28;01mreturn\u001b[39;00m func(\u001b[38;5;241m*\u001b[39margs, \u001b[38;5;241m*\u001b[39m\u001b[38;5;241m*\u001b[39mkwargs)\n\u001b[0;32m     48\u001b[0m \u001b[38;5;28;01mexcept\u001b[39;00m OperationFailure \u001b[38;5;28;01mas\u001b[39;00m exc:\n\u001b[0;32m     49\u001b[0m     \u001b[38;5;28;01mif\u001b[39;00m no_reauth:\n",
      "File \u001b[1;32m~\\AppData\\Local\\Packages\\PythonSoftwareFoundation.Python.3.10_qbz5n2kfra8p0\\LocalCache\\local-packages\\Python310\\site-packages\\pymongo\\synchronous\\server.py:208\u001b[0m, in \u001b[0;36mServer.run_operation\u001b[1;34m(self, conn, operation, read_preference, listeners, unpack_res, client)\u001b[0m\n\u001b[0;32m    206\u001b[0m \u001b[38;5;28;01melse\u001b[39;00m:\n\u001b[0;32m    207\u001b[0m     conn\u001b[38;5;241m.\u001b[39msend_message(data, max_doc_size)\n\u001b[1;32m--> 208\u001b[0m     reply \u001b[38;5;241m=\u001b[39m \u001b[43mconn\u001b[49m\u001b[38;5;241;43m.\u001b[39;49m\u001b[43mreceive_message\u001b[49m\u001b[43m(\u001b[49m\u001b[43mrequest_id\u001b[49m\u001b[43m)\u001b[49m\n\u001b[0;32m    210\u001b[0m \u001b[38;5;66;03m# Unpack and check for command errors.\u001b[39;00m\n\u001b[0;32m    211\u001b[0m \u001b[38;5;28;01mif\u001b[39;00m use_cmd:\n",
      "File \u001b[1;32m~\\AppData\\Local\\Packages\\PythonSoftwareFoundation.Python.3.10_qbz5n2kfra8p0\\LocalCache\\local-packages\\Python310\\site-packages\\pymongo\\synchronous\\pool.py:470\u001b[0m, in \u001b[0;36mConnection.receive_message\u001b[1;34m(self, request_id)\u001b[0m\n\u001b[0;32m    468\u001b[0m \u001b[38;5;66;03m# Catch KeyboardInterrupt, CancelledError, etc. and cleanup.\u001b[39;00m\n\u001b[0;32m    469\u001b[0m \u001b[38;5;28;01mexcept\u001b[39;00m \u001b[38;5;167;01mBaseException\u001b[39;00m \u001b[38;5;28;01mas\u001b[39;00m error:\n\u001b[1;32m--> 470\u001b[0m     \u001b[38;5;28;43mself\u001b[39;49m\u001b[38;5;241;43m.\u001b[39;49m\u001b[43m_raise_connection_failure\u001b[49m\u001b[43m(\u001b[49m\u001b[43merror\u001b[49m\u001b[43m)\u001b[49m\n",
      "File \u001b[1;32m~\\AppData\\Local\\Packages\\PythonSoftwareFoundation.Python.3.10_qbz5n2kfra8p0\\LocalCache\\local-packages\\Python310\\site-packages\\pymongo\\synchronous\\pool.py:467\u001b[0m, in \u001b[0;36mConnection.receive_message\u001b[1;34m(self, request_id)\u001b[0m\n\u001b[0;32m    462\u001b[0m \u001b[38;5;250m\u001b[39m\u001b[38;5;124;03m\"\"\"Receive a raw BSON message or raise ConnectionFailure.\u001b[39;00m\n\u001b[0;32m    463\u001b[0m \n\u001b[0;32m    464\u001b[0m \u001b[38;5;124;03mIf any exception is raised, the socket is closed.\u001b[39;00m\n\u001b[0;32m    465\u001b[0m \u001b[38;5;124;03m\"\"\"\u001b[39;00m\n\u001b[0;32m    466\u001b[0m \u001b[38;5;28;01mtry\u001b[39;00m:\n\u001b[1;32m--> 467\u001b[0m     \u001b[38;5;28;01mreturn\u001b[39;00m \u001b[43mreceive_message\u001b[49m\u001b[43m(\u001b[49m\u001b[38;5;28;43mself\u001b[39;49m\u001b[43m,\u001b[49m\u001b[43m \u001b[49m\u001b[43mrequest_id\u001b[49m\u001b[43m,\u001b[49m\u001b[43m \u001b[49m\u001b[38;5;28;43mself\u001b[39;49m\u001b[38;5;241;43m.\u001b[39;49m\u001b[43mmax_message_size\u001b[49m\u001b[43m)\u001b[49m\n\u001b[0;32m    468\u001b[0m \u001b[38;5;66;03m# Catch KeyboardInterrupt, CancelledError, etc. and cleanup.\u001b[39;00m\n\u001b[0;32m    469\u001b[0m \u001b[38;5;28;01mexcept\u001b[39;00m \u001b[38;5;167;01mBaseException\u001b[39;00m \u001b[38;5;28;01mas\u001b[39;00m error:\n",
      "File \u001b[1;32m~\\AppData\\Local\\Packages\\PythonSoftwareFoundation.Python.3.10_qbz5n2kfra8p0\\LocalCache\\local-packages\\Python310\\site-packages\\pymongo\\network_layer.py:756\u001b[0m, in \u001b[0;36mreceive_message\u001b[1;34m(conn, request_id, max_message_size)\u001b[0m\n\u001b[0;32m    754\u001b[0m         deadline \u001b[38;5;241m=\u001b[39m \u001b[38;5;28;01mNone\u001b[39;00m\n\u001b[0;32m    755\u001b[0m \u001b[38;5;66;03m# Ignore the response's request id.\u001b[39;00m\n\u001b[1;32m--> 756\u001b[0m length, _, response_to, op_code \u001b[38;5;241m=\u001b[39m _UNPACK_HEADER(\u001b[43mreceive_data\u001b[49m\u001b[43m(\u001b[49m\u001b[43mconn\u001b[49m\u001b[43m,\u001b[49m\u001b[43m \u001b[49m\u001b[38;5;241;43m16\u001b[39;49m\u001b[43m,\u001b[49m\u001b[43m \u001b[49m\u001b[43mdeadline\u001b[49m\u001b[43m)\u001b[49m)\n\u001b[0;32m    757\u001b[0m \u001b[38;5;66;03m# No request_id for exhaust cursor \"getMore\".\u001b[39;00m\n\u001b[0;32m    758\u001b[0m \u001b[38;5;28;01mif\u001b[39;00m request_id \u001b[38;5;129;01mis\u001b[39;00m \u001b[38;5;129;01mnot\u001b[39;00m \u001b[38;5;28;01mNone\u001b[39;00m:\n",
      "File \u001b[1;32m~\\AppData\\Local\\Packages\\PythonSoftwareFoundation.Python.3.10_qbz5n2kfra8p0\\LocalCache\\local-packages\\Python310\\site-packages\\pymongo\\network_layer.py:351\u001b[0m, in \u001b[0;36mreceive_data\u001b[1;34m(conn, length, deadline)\u001b[0m\n\u001b[0;32m    348\u001b[0m             short_timeout \u001b[38;5;241m=\u001b[39m _POLL_TIMEOUT\n\u001b[0;32m    349\u001b[0m         conn\u001b[38;5;241m.\u001b[39mset_conn_timeout(short_timeout)\n\u001b[1;32m--> 351\u001b[0m     chunk_length \u001b[38;5;241m=\u001b[39m \u001b[43mconn\u001b[49m\u001b[38;5;241;43m.\u001b[39;49m\u001b[43mconn\u001b[49m\u001b[38;5;241;43m.\u001b[39;49m\u001b[43mrecv_into\u001b[49m\u001b[43m(\u001b[49m\u001b[43mmv\u001b[49m\u001b[43m[\u001b[49m\u001b[43mbytes_read\u001b[49m\u001b[43m:\u001b[49m\u001b[43m]\u001b[49m\u001b[43m)\u001b[49m\n\u001b[0;32m    352\u001b[0m \u001b[38;5;28;01mexcept\u001b[39;00m BLOCKING_IO_ERRORS:\n\u001b[0;32m    353\u001b[0m     \u001b[38;5;28;01mif\u001b[39;00m conn\u001b[38;5;241m.\u001b[39mcancel_context\u001b[38;5;241m.\u001b[39mcancelled:\n",
      "\u001b[1;31mKeyboardInterrupt\u001b[0m: "
     ]
    }
   ],
   "source": [
    "from pymongo import MongoClient\n",
    "import pandas as pd\n",
    "\n",
    "pd.set_option('display.max_colwidth', 50)\n",
    "\n",
    "client = MongoClient(\n",
    "    'mongodb://localhost:30001,localhost:30002,localhost:30003/?replicaSet=my-replica-set'\n",
    ")\n",
    "db = client[\"arxiv_db\"]\n",
    "collection = db[\"articles\"]\n",
    "\n",
    "consulta = {\"doi\":{\"$exists\":True,\"$ne\":None}}\n",
    "parametros = {\"title\":1, \"authors\":1, \"journal-ref\":1, \"_id\":0}\n",
    "\n",
    "resultados = list(collection.find(consulta, parametros).limit(20).sort(\"title\", 1))\n",
    "\n",
    "print(pd.DataFrame(resultados))"
   ]
  },
  {
   "cell_type": "markdown",
   "metadata": {},
   "source": [
    "e. Devolver los títulos y la fecha de la primera versión (versions.created) de los artículos\n",
    "enviados entre los años 2010 y 2015. Mostrar solo esos campos y limitar a los primeros 15\n",
    "resultados."
   ]
  },
  {
   "cell_type": "code",
   "execution_count": null,
   "metadata": {},
   "outputs": [
    {
     "name": "stdout",
     "output_type": "stream",
     "text": [
      "                                                title                     year\n",
      "0   A Comprehensive Analysis of Uncertainties Affe...  3 Jan 2010 19:43:29 GMT\n",
      "1   Testing product states, quantum Merlin-Arthur ...  4 Jan 2010 18:01:41 GMT\n",
      "2   A landscape of non-supersymmetric AdS vacua on...  4 Jan 2010 13:51:46 GMT\n",
      "3               Jet Shapes and Jet Algorithms in SCET  4 Jan 2010 20:56:57 GMT\n",
      "4               Mu-Tau Production at Hadron Colliders  4 Jan 2010 04:10:52 GMT\n",
      "5   Strong Constraints to the Putative Planet Cand...  1 Jan 2010 00:07:58 GMT\n",
      "6            Bayesian Methods and Universal Darwinism  4 Jan 2010 17:01:57 GMT\n",
      "7   Rigid Symmetries and Conservation Laws in Non-...  4 Jan 2010 12:30:50 GMT\n",
      "8   New identities involving q-Euler polynomials o...  4 Jan 2010 15:34:13 GMT\n",
      "9                   Nonmeasurability in Banach spaces  4 Jan 2010 16:31:26 GMT\n",
      "10  Arrested phase separation in reproducing bacte...  4 Jan 2010 19:56:03 GMT\n",
      "11  News on PHOTOS Monte Carlo: gamma^* -> pi^+ pi...  4 Jan 2010 15:50:15 GMT\n",
      "12             Euclid Imaging Consortium Science Book  4 Jan 2010 15:34:42 GMT\n",
      "13  The quadratic character of 1+\\sqrt{2} and an e...  3 Jan 2010 04:16:44 GMT\n",
      "14  Collapsing and Separating Completeness Notions...  4 Jan 2010 20:55:05 GMT\n"
     ]
    }
   ],
   "source": [
    "from pymongo import MongoClient\n",
    "import pandas as pd\n",
    "\n",
    "pd.set_option('display.max_colwidth', 50)\n",
    "\n",
    "client = MongoClient(\n",
    "    'mongodb://localhost:30001,localhost:30002,localhost:30003/?replicaSet=my-replica-set'\n",
    ")\n",
    "db = client[\"arxiv_db\"]\n",
    "collection = db[\"articles\"]\n",
    "\n",
    "# nos vamos a la primera version del articulo en el indice 0 del array\n",
    "consulta = {\"versions.0.created\":{\"$regex\":\"2010|2011|2012|2013|2014|2015\"}}\n",
    "parametros = {\"title\":1, \"versions\":1,\"_id\":0}\n",
    "\n",
    "resultados = list(collection.find(consulta, parametros).limit(15))\n",
    "\n",
    "# Extract year from 'created' field\n",
    "def extract_year(versions):\n",
    "    if versions and 'created' in versions[0]:\n",
    "        return versions[0]['created'].split(',')[-1].strip()\n",
    "    return None\n",
    "\n",
    "df = pd.DataFrame(resultados)\n",
    "df['year'] = df['versions'].apply(extract_year)\n",
    "\n",
    "print(df[['title', 'year']])"
   ]
  },
  {
   "cell_type": "markdown",
   "metadata": {},
   "source": [
    "f. Devolver los títulos, comentarios y reportes técnicos (report-no) de artículos que tengan comentarios definidos y no nulos. Mostrar solo esos campos, ordenando por fecha de actualización (update_date) en orden descendente. Limitar a 10 resultados."
   ]
  },
  {
   "cell_type": "code",
   "execution_count": null,
   "metadata": {},
   "outputs": [
    {
     "name": "stdout",
     "output_type": "stream",
     "text": [
      "                                               title  \\\n",
      "0  The Filippov characteristic flow for the aggre...   \n",
      "1  A currently true statement G of the form \"$\\ex...   \n",
      "2  Effect of Tensile Strain in GaN Layer on the B...   \n",
      "3     A Proof of the truth of the Riemann hypothesis   \n",
      "4               The nature of electromagnetic energy   \n",
      "5  On the global existence and blowup of smooth s...   \n",
      "6  Sturm-Liouville and Carroll: at the heart of t...   \n",
      "7  Conditions for Solvability in Chemical Reactio...   \n",
      "8  Quantum Entanglement Dynamics of Spacetime and...   \n",
      "9            The information-complete quantum theory   \n",
      "\n",
      "                                            comments report-no  \n",
      "0                                           33 pages      None  \n",
      "1  presented at the 25th Conference Applications ...      None  \n",
      "2                                 3 pages, 4 figures      None  \n",
      "3                                         in Russian      None  \n",
      "4  The previous version had a number of mistakes,...      None  \n",
      "5                                32 pages, 2 figures      None  \n",
      "6                              affiliation corrected      None  \n",
      "7                                25 pages, 3 figures      None  \n",
      "8  17 pages, 1 figure; published version. Comment...      None  \n",
      "9  12 pages+1 figure; updated version; comments a...      None  \n"
     ]
    }
   ],
   "source": [
    "from pymongo import MongoClient\n",
    "import pandas as pd\n",
    "\n",
    "pd.set_option('display.max_colwidth', 50)\n",
    "\n",
    "client = MongoClient(\n",
    "    'mongodb://localhost:30001,localhost:30002,localhost:30003/?replicaSet=my-replica-set'\n",
    ")\n",
    "db = client[\"arxiv_db\"]\n",
    "collection = db[\"articles\"]\n",
    "\n",
    "# Consulta: comentarios definidos y no nulos\n",
    "consulta = {\n",
    "    \"comments\": {\"$exists\": True, \"$ne\": None}\n",
    "}\n",
    "parametros = {\"title\": 1, \"comments\": 1, \"report-no\": 1, \"_id\": 0}\n",
    "\n",
    "resultados = list(\n",
    "    collection.find(consulta, parametros)\n",
    "    .sort(\"update_date\", -1)\n",
    "    .limit(10)\n",
    ")\n",
    "\n",
    "df = pd.DataFrame(resultados)\n",
    "print(df)"
   ]
  },
  {
   "cell_type": "markdown",
   "metadata": {},
   "source": [
    "Parte 3"
   ]
  },
  {
   "cell_type": "code",
   "execution_count": 14,
   "metadata": {},
   "outputs": [
    {
     "name": "stdout",
     "output_type": "stream",
     "text": [
      "Ping result: {'ok': 1.0, '$clusterTime': {'clusterTime': Timestamp(1749767989, 2), 'signature': {'hash': b'\\x00\\x00\\x00\\x00\\x00\\x00\\x00\\x00\\x00\\x00\\x00\\x00\\x00\\x00\\x00\\x00\\x00\\x00\\x00\\x00', 'keyId': 0}}, 'operationTime': Timestamp(1749767989, 2)}\n",
      "Conexión exitosa a MongoDB\n",
      "MongoDB connection verified.\n",
      "Document already exists. Deleting it before insertion: {'_id': '684a528d934c09df034b4c5b', 'id': '0704.0002', 'submitter': 'Louis Theran', 'authors': 'Ileana Streinu and Louis Theran', 'title': 'Sparsity-certifying Graph Decompositions', 'comments': 'To appear in Graphs and Combinatorics', 'categories': 'math.CO cs.CG', 'license': 'http://arxiv.org/licenses/nonexclusive-distrib/1.0/', 'abstract': '  We describe a new algorithm, the $(k,\\\\ell)$-pebble game with colors,…', 'update_date': '2008-12-13'}\n",
      "Inserted document ID: 684a528d934c09df034b4c5b\n",
      "Document before deletion: {'_id': '684a528d934c09df034b4c5b', 'id': '0704.0002', 'submitter': 'Louis Theran', 'authors': 'Ileana Streinu and Louis Theran', 'title': 'Sparsity-certifying Graph Decompositions', 'comments': 'To appear in Graphs and Combinatorics', 'categories': 'math.CO cs.CG', 'license': 'http://arxiv.org/licenses/nonexclusive-distrib/1.0/', 'abstract': '  We describe a new algorithm, the $(k,\\\\ell)$-pebble game with colors,…', 'update_date': '2008-12-13'}\n",
      "Deleted count for _id 684a528d934c09df034b4c5b: 1\n",
      "Waiting for replication...\n",
      "Document from node mongodb://localhost:30001 after deletion: None\n",
      "Document from node mongodb://localhost:30002 after deletion: None\n",
      "Document from node mongodb://localhost:30003 after deletion: None\n",
      "Recreated document ID: 684a528d934c09df034b4c5b\n",
      "Waiting for replication...\n",
      "Document from node mongodb://localhost:30001 after deletion: None\n",
      "Document from node mongodb://localhost:30002 after deletion: None\n",
      "Document from node mongodb://localhost:30003 after deletion: None\n",
      "Recreated document ID: 684a528d934c09df034b4c5b\n",
      "Waiting for replication...\n",
      "Document from node mongodb://localhost:30001 after recreation: {'_id': '684a528d934c09df034b4c5b', 'id': '0704.0002', 'submitter': 'Louis Theran', 'authors': 'Ileana Streinu and Louis Theran', 'title': 'Sparsity-certifying Graph Decompositions', 'comments': 'To appear in Graphs and Combinatorics', 'categories': 'math.CO cs.CG', 'license': 'http://arxiv.org/licenses/nonexclusive-distrib/1.0/', 'abstract': '  We describe a new algorithm, the $(k,\\\\ell)$-pebble game with colors,…', 'update_date': '2008-12-13'}\n",
      "Document from node mongodb://localhost:30002 after recreation: {'_id': '684a528d934c09df034b4c5b', 'id': '0704.0002', 'submitter': 'Louis Theran', 'authors': 'Ileana Streinu and Louis Theran', 'title': 'Sparsity-certifying Graph Decompositions', 'comments': 'To appear in Graphs and Combinatorics', 'categories': 'math.CO cs.CG', 'license': 'http://arxiv.org/licenses/nonexclusive-distrib/1.0/', 'abstract': '  We describe a new algorithm, the $(k,\\\\ell)$-pebble game with colors,…', 'update_date': '2008-12-13'}\n",
      "Document from node mongodb://localhost:30003 after recreation: {'_id': '684a528d934c09df034b4c5b', 'id': '0704.0002', 'submitter': 'Louis Theran', 'authors': 'Ileana Streinu and Louis Theran', 'title': 'Sparsity-certifying Graph Decompositions', 'comments': 'To appear in Graphs and Combinatorics', 'categories': 'math.CO cs.CG', 'license': 'http://arxiv.org/licenses/nonexclusive-distrib/1.0/', 'abstract': '  We describe a new algorithm, the $(k,\\\\ell)$-pebble game with colors,…', 'update_date': '2008-12-13'}\n",
      "Document from node mongodb://localhost:30001 after recreation: {'_id': '684a528d934c09df034b4c5b', 'id': '0704.0002', 'submitter': 'Louis Theran', 'authors': 'Ileana Streinu and Louis Theran', 'title': 'Sparsity-certifying Graph Decompositions', 'comments': 'To appear in Graphs and Combinatorics', 'categories': 'math.CO cs.CG', 'license': 'http://arxiv.org/licenses/nonexclusive-distrib/1.0/', 'abstract': '  We describe a new algorithm, the $(k,\\\\ell)$-pebble game with colors,…', 'update_date': '2008-12-13'}\n",
      "Document from node mongodb://localhost:30002 after recreation: {'_id': '684a528d934c09df034b4c5b', 'id': '0704.0002', 'submitter': 'Louis Theran', 'authors': 'Ileana Streinu and Louis Theran', 'title': 'Sparsity-certifying Graph Decompositions', 'comments': 'To appear in Graphs and Combinatorics', 'categories': 'math.CO cs.CG', 'license': 'http://arxiv.org/licenses/nonexclusive-distrib/1.0/', 'abstract': '  We describe a new algorithm, the $(k,\\\\ell)$-pebble game with colors,…', 'update_date': '2008-12-13'}\n",
      "Document from node mongodb://localhost:30003 after recreation: {'_id': '684a528d934c09df034b4c5b', 'id': '0704.0002', 'submitter': 'Louis Theran', 'authors': 'Ileana Streinu and Louis Theran', 'title': 'Sparsity-certifying Graph Decompositions', 'comments': 'To appear in Graphs and Combinatorics', 'categories': 'math.CO cs.CG', 'license': 'http://arxiv.org/licenses/nonexclusive-distrib/1.0/', 'abstract': '  We describe a new algorithm, the $(k,\\\\ell)$-pebble game with colors,…', 'update_date': '2008-12-13'}\n"
     ]
    }
   ],
   "source": [
    "from pymongo import MongoClient\n",
    "import pymongo\n",
    "import time\n",
    "\n",
    "# se chequea que hay conexión a MongoDB\n",
    "try:\n",
    "    client = MongoClient(\n",
    "        'mongodb://localhost:30001,localhost:30002,localhost:30003/?replicaSet=my-replica-set'\n",
    "    )\n",
    "    result = client.admin.command('ping')\n",
    "    print(\"Ping result:\", result)\n",
    "    print(\"Conexión exitosa a MongoDB\")\n",
    "except Exception as e:\n",
    "    print(\"Error:\", e)\n",
    "\n",
    "# Verify MongoDB connection before performing operations\n",
    "try:\n",
    "    client = pymongo.MongoClient(\n",
    "        'mongodb://localhost:30001,localhost:30002,localhost:30003/?replicaSet=my-replica-set'\n",
    "    )\n",
    "    client.admin.command('ping')\n",
    "    print(\"MongoDB connection verified.\")\n",
    "except Exception as e:\n",
    "    print(\"Error verifying MongoDB connection:\", e)\n",
    "    raise\n",
    "\n",
    "db = client[\"arxiv_db\"]\n",
    "collection = db[\"articles\"]\n",
    "\n",
    "# Document to work with\n",
    "document = {\n",
    "    \"_id\": \"684a528d934c09df034b4c5b\",\n",
    "    \"id\": \"0704.0002\",\n",
    "    \"submitter\": \"Louis Theran\",\n",
    "    \"authors\": \"Ileana Streinu and Louis Theran\",\n",
    "    \"title\": \"Sparsity-certifying Graph Decompositions\",\n",
    "    \"comments\": \"To appear in Graphs and Combinatorics\",\n",
    "    \"categories\": \"math.CO cs.CG\",\n",
    "    \"license\": \"http://arxiv.org/licenses/nonexclusive-distrib/1.0/\",\n",
    "    \"abstract\": \"  We describe a new algorithm, the $(k,\\ell)$-pebble game with colors,…\",\n",
    "    \"update_date\": \"2008-12-13\"\n",
    "}\n",
    "\n",
    "# Check if the document exists and delete it if necessary\n",
    "try:\n",
    "    existing_doc = collection.find_one({\"_id\": document[\"_id\"]})\n",
    "    if existing_doc:\n",
    "        print(\"Document already exists. Deleting it before insertion:\", existing_doc)\n",
    "        collection.delete_one({\"_id\": document[\"_id\"]})\n",
    "except Exception as e:\n",
    "    print(\"Error checking or deleting existing document:\", e)\n",
    "\n",
    "# Insert the document into the collection\n",
    "try:\n",
    "    insert_result = collection.insert_one(document)\n",
    "    print(f\"Inserted document ID: {insert_result.inserted_id}\")\n",
    "except Exception as e:\n",
    "    print(\"Error inserting document:\", e)\n",
    "\n",
    "# Print the inserted document from one node\n",
    "try:\n",
    "    found_doc = collection.find_one({\"_id\": document[\"_id\"]})\n",
    "    print(\"Document before deletion:\", found_doc)\n",
    "except Exception as e:\n",
    "    print(\"Error finding document:\", e)\n",
    "\n",
    "# Delete the document\n",
    "try:\n",
    "    delete_result = collection.delete_one({\"_id\": document[\"_id\"]})\n",
    "    print(f\"Deleted count for _id {document['_id']}: {delete_result.deleted_count}\")\n",
    "except Exception as e:\n",
    "    print(\"Error deleting document:\", e)\n",
    "\n",
    "# Wait for replication\n",
    "print(\"Waiting for replication...\")\n",
    "time.sleep(5)  # Wait 5 seconds to allow replication\n",
    "\n",
    "# Verify deletion in all nodes\n",
    "try:\n",
    "    nodes = [\n",
    "        'mongodb://localhost:30001',\n",
    "        'mongodb://localhost:30002',\n",
    "        'mongodb://localhost:30003'\n",
    "    ]\n",
    "\n",
    "    for node in nodes:\n",
    "        node_client = pymongo.MongoClient(node)\n",
    "        node_db = node_client[\"arxiv_db\"]\n",
    "        node_collection = node_db[\"articles\"]\n",
    "        found_doc = node_collection.find_one({\"_id\": document[\"_id\"]})\n",
    "        print(f\"Document from node {node} after deletion: {found_doc}\")\n",
    "\n",
    "except Exception as e:\n",
    "    print(\"Error verifying document deletion in nodes:\", e)\n",
    "\n",
    "# Recreate the document after deletion\n",
    "try:\n",
    "    insert_result = collection.insert_one(document)\n",
    "    print(f\"Recreated document ID: {insert_result.inserted_id}\")\n",
    "except Exception as e:\n",
    "    print(\"Error recreating document:\", e)\n",
    "\n",
    "# Wait for replication\n",
    "print(\"Waiting for replication...\")\n",
    "time.sleep(5)  # Wait 5 seconds to allow replication\n",
    "\n",
    "# Verify recreation in all nodes\n",
    "try:\n",
    "    for node in nodes:\n",
    "        node_client = pymongo.MongoClient(node)\n",
    "        node_db = node_client[\"arxiv_db\"]\n",
    "        node_collection = node_db[\"articles\"]\n",
    "        found_doc = node_collection.find_one({\"_id\": document[\"_id\"]})\n",
    "        print(f\"Document from node {node} after recreation: {found_doc}\")\n",
    "\n",
    "except Exception as e:\n",
    "    print(\"Error verifying document recreation in nodes:\", e)"
   ]
  }
 ],
 "metadata": {
  "kernelspec": {
   "display_name": "Python 3",
   "language": "python",
   "name": "python3"
  },
  "language_info": {
   "codemirror_mode": {
    "name": "ipython",
    "version": 3
   },
   "file_extension": ".py",
   "mimetype": "text/x-python",
   "name": "python",
   "nbconvert_exporter": "python",
   "pygments_lexer": "ipython3",
   "version": "3.10.11"
  }
 },
 "nbformat": 4,
 "nbformat_minor": 4
}
