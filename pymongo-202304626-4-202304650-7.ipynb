{
 "cells": [
  {
   "cell_type": "markdown",
   "metadata": {},
   "source": [
    "## Primera Etapa\n",
    "Instalación de las librerías necesarias"
   ]
  },
  {
   "cell_type": "code",
   "execution_count": 5,
   "metadata": {},
   "outputs": [],
   "source": [
    "#pip install pymongo\n",
    "#pip install pandas\n",
    "#pip install dnspython"
   ]
  },
  {
   "cell_type": "code",
   "execution_count": 7,
   "metadata": {},
   "outputs": [
    {
     "name": "stdout",
     "output_type": "stream",
     "text": [
      "Ping result: {'ok': 1.0, '$clusterTime': {'clusterTime': Timestamp(1749759596, 2), 'signature': {'hash': b'\\x00\\x00\\x00\\x00\\x00\\x00\\x00\\x00\\x00\\x00\\x00\\x00\\x00\\x00\\x00\\x00\\x00\\x00\\x00\\x00', 'keyId': 0}}, 'operationTime': Timestamp(1749759596, 2)}\n",
      "Conexión exitosa a MongoDB\n"
     ]
    }
   ],
   "source": [
    "from pymongo import MongoClient\n",
    "\n",
    "# se chequea que hay conexión a MongoDB\n",
    "try:\n",
    "    client = MongoClient(\n",
    "        'mongodb://localhost:30001,localhost:30002,localhost:30003/?replicaSet=my-replica-set'\n",
    "    )\n",
    "    result = client.admin.command('ping')\n",
    "    print(\"Ping result:\", result)\n",
    "    print(\"Conexión exitosa a MongoDB\")\n",
    "except Exception as e:\n",
    "    print(\"Error:\", e)"
   ]
  },
  {
   "cell_type": "markdown",
   "metadata": {},
   "source": [
    "## Consulta"
   ]
  },
  {
   "cell_type": "markdown",
   "metadata": {},
   "source": [
    "Se haran las consultas pedidas en la tarea"
   ]
  },
  {
   "cell_type": "markdown",
   "metadata": {},
   "source": [
    "a) Primera consulta"
   ]
  },
  {
   "cell_type": "code",
   "execution_count": 8,
   "metadata": {},
   "outputs": [
    {
     "name": "stdout",
     "output_type": "stream",
     "text": [
      "                                                title update_date\n",
      "0   Hamiltonian Graphs and the Traveling Salesman ...  2025-02-26\n",
      "1   Spin-dependent three-nucleon force effects on ...  2025-03-20\n",
      "2   Adjointability of densely defined closed opera...  2025-04-29\n",
      "3                         Proof of Riemann Hypothesis  2025-04-11\n",
      "4   Critical fluctuations of time-dependent magnet...  2025-01-06\n",
      "5   Gauss--Berezin integral operators and spinors ...  2025-02-11\n",
      "6                The nature of electromagnetic energy  2025-05-16\n",
      "7   Periodic relativity: the theory of gravity in ...  2025-01-16\n",
      "8      Quantization of Atomic and Nuclear Rest Masses  2025-02-08\n",
      "9   Solution of the equation d/dx(pdu/dx)+qu=cu by...  2025-05-06\n",
      "10  The role of the quark and gluon GPDs in hard v...  2025-01-22\n",
      "11  A new weak approximation scheme of stochastic ...  2025-04-28\n",
      "12  Strict essential extensions of C*-algebras and...  2025-04-29\n",
      "13     Rationalization of EPR Coincidence Experiments  2025-04-03\n",
      "14                  Hard exclusive scattering at Jlab  2025-01-22\n",
      "15  Ganea and Whitehead definitions for the tangen...  2025-03-11\n",
      "16                   Generating functions for borders  2025-03-04\n",
      "17  Observation of correlations up to the micromet...  2025-01-08\n",
      "18  Form factors and other measures of strangeness...  2025-01-22\n",
      "19          Data Tables for Lorentz and CPT Violation  2025-01-14\n"
     ]
    }
   ],
   "source": [
    "from pymongo import MongoClient\n",
    "from pandas import DataFrame\n",
    "\n",
    "client = MongoClient(\n",
    "    'mongodb://localhost:30001,localhost:30002,localhost:30003/?replicaSet=my-replica-set'\n",
    ")\n",
    "db = client[\"arxiv_db\"]\n",
    "collection = db[\"articles\"]\n",
    "\n",
    "consulta = {\"update_date\": {\"$regex\": \"^2025\"}}\n",
    "parametros = {\"title\": 1, \"update_date\": 1, \"_id\": 0}\n",
    "\n",
    "# usamos list porque head() se come unos resultados\n",
    "docs = list(collection.find(consulta, parametros).limit(20))\n",
    "df = DataFrame(docs)\n",
    "print(df)"
   ]
  },
  {
   "cell_type": "markdown",
   "metadata": {},
   "source": [
    "b. Devolver los títulos y los autores de artículos que pertenezcan a las categorías \"cs.AI\"\n",
    "o \"stat.ML\" y que tengan al menos tres autores. Mostrar solo esos campos y limitar a los\n",
    "primeros 10 resultados."
   ]
  },
  {
   "cell_type": "code",
   "execution_count": 6,
   "metadata": {},
   "outputs": [
    {
     "name": "stdout",
     "output_type": "stream",
     "text": [
      "                                             authors  \\\n",
      "0  Tarik Hadzic, Rune Moller Jensen, Henrik Reif ...   \n",
      "1  Stefano Bistarelli, Ugo Montanari, Francesca R...   \n",
      "2  Juliana S Bernardes, Alberto Davila, Vitor San...   \n",
      "3  Giorgio Terracina, Nicola Leone, Vincenzino Li...   \n",
      "4               S. Mohamed, D. Rubin, and T. Marwala   \n",
      "5                   J. Uglov, V. Schetinin, C. Maple   \n",
      "6  Christian Gagn\\'e (INFORMATIQUE WGZ INC.), Mic...   \n",
      "7  Edgar H. de Graaf, Joost N. Kok, Walter A. Kos...   \n",
      "8  Edgar H. de Graaf, Joost N. Kok, Walter A. Kos...   \n",
      "9  Nicolas Godzik (INRIA Futurs, INRIA Rocquencou...   \n",
      "\n",
      "                                               title  \n",
      "0  Calculating Valid Domains for BDD-Based Intera...  \n",
      "1  Unicast and Multicast Qos Routing with Soft Co...  \n",
      "2  A study of structural properties on profiles HMMs  \n",
      "3  Experimenting with recursive queries in databa...  \n",
      "4  An Adaptive Strategy for the Classification of...  \n",
      "5  Comparing Robustness of Pairwise and Multiclas...  \n",
      "6  Ensemble Learning for Free with Evolutionary A...  \n",
      "7  Clustering Co-occurrence of Maximal Frequent P...  \n",
      "8  Clustering with Lattices in the Analysis of Gr...  \n",
      "9                      Evolving Symbolic Controllers  \n"
     ]
    }
   ],
   "source": [
    "from pymongo import MongoClient\n",
    "import pandas as pd\n",
    "pd.set_option('display.max_colwidth', 50)\n",
    "\n",
    "client = MongoClient(\n",
    "    'mongodb://localhost:30001,localhost:30002,localhost:30003/?replicaSet=my-replica-set'\n",
    ")\n",
    "db = client[\"arxiv_db\"]\n",
    "collection = db[\"articles\"]\n",
    "\n",
    "# parametros de consulta\n",
    "consulta = {\"categories\": {\"$regex\": \"cs.AI|stat.ML\"}, \"authors\":{\"$regex\":\".*,.*,\"}}\n",
    "parametros = {\"title\": 1, \"authors\": 1, \"_id\": 0}\n",
    "\n",
    "# se devuelven solo los primeros 10 resultados\n",
    "resultados = list(collection.find(consulta, parametros).limit(10))\n",
    "df = pd.DataFrame(resultados)\n",
    "print(df)"
   ]
  },
  {
   "cell_type": "markdown",
   "metadata": {},
   "source": [
    "c. Devolver los títulos, las categorías y los enlaces al PDF de artículos que pertenezcan a\n",
    "la categoría \"hep-ph\" y tengan un DOI asignado. Mostrar solo esos campos y limitar a 15\n",
    "resultados."
   ]
  },
  {
   "cell_type": "code",
   "execution_count": 8,
   "metadata": {},
   "outputs": [
    {
     "name": "stdout",
     "output_type": "stream",
     "text": [
      "                                                title              categories  \\\n",
      "0   Calculation of prompt diphoton production cros...                  hep-ph   \n",
      "1                  Lifetime of doubly charmed baryons                  hep-ph   \n",
      "2   Understanding the Flavor Symmetry Breaking and...                  hep-ph   \n",
      "3   Crystal channeling of LHC forward protons with...                  hep-ph   \n",
      "4   Probing non-standard neutrino interactions wit...                  hep-ph   \n",
      "5   Scalar radius of the pion and zeros in the for...  hep-ph hep-lat nucl-th   \n",
      "6                    Strong decays of charmed baryons   hep-ph hep-ex nucl-ex   \n",
      "7                       CP violation in beauty decays           hep-ph hep-ex   \n",
      "8   Energy density for chiral lattice fermions wit...          hep-lat hep-ph   \n",
      "9   Multiple Parton Scattering in Nuclei: Quark-qu...          hep-ph nucl-th   \n",
      "10    Strong Phase and $D^0-D^0bar$ mixing at BES-III           hep-ex hep-ph   \n",
      "11  Towards self-consistent definition of instanto...                  hep-ph   \n",
      "12  Instanton Liquid at Finite Temperature and Che...                  hep-ph   \n",
      "13   Hadrons in Medium -- Theory confronts experiment  nucl-th hep-ph nucl-ex   \n",
      "14  Very strong and slowly varying magnetic fields...                  hep-ph   \n",
      "\n",
      "                                           pdf_source  \n",
      "0   https://arxiv.org/pdf/Calculation_of_prompt_di...  \n",
      "1   https://arxiv.org/pdf/Lifetime_of_doubly_charm...  \n",
      "2   https://arxiv.org/pdf/Understanding_the_Flavor...  \n",
      "3   https://arxiv.org/pdf/Crystal_channeling_of_LH...  \n",
      "4   https://arxiv.org/pdf/Probing_non-standard_neu...  \n",
      "5   https://arxiv.org/pdf/Scalar_radius_of_the_pio...  \n",
      "6   https://arxiv.org/pdf/Strong_decays_of_charmed...  \n",
      "7   https://arxiv.org/pdf/CP_violation_in_beauty_d...  \n",
      "8   https://arxiv.org/pdf/Energy_density_for_chira...  \n",
      "9   https://arxiv.org/pdf/Multiple_Parton_Scatteri...  \n",
      "10  https://arxiv.org/pdf/Strong_Phase_and_$D^0-D^...  \n",
      "11  https://arxiv.org/pdf/Towards_self-consistent_...  \n",
      "12  https://arxiv.org/pdf/Instanton_Liquid_at_Fini...  \n",
      "13  https://arxiv.org/pdf/Hadrons_in_Medium_--_The...  \n",
      "14  https://arxiv.org/pdf/Very_strong_and_slowly_v...  \n"
     ]
    }
   ],
   "source": [
    "from pymongo import MongoClient\n",
    "import pandas as pd\n",
    "\n",
    "pd.set_option('display.max_colwidth', 50)\n",
    "\n",
    "client = MongoClient(\n",
    "    'mongodb://localhost:30001,localhost:30002,localhost:30003/?replicaSet=my-replica-set'\n",
    ")\n",
    "db = client[\"arxiv_db\"]\n",
    "collection = db[\"articles\"]\n",
    "\n",
    "consulta = {\"categories\":{\"$regex\":\"hep-ph\"}, \"doi\":{\"$exists\":True, \"$ne\":None}}\n",
    "parametros = {\"title\":1, \"categories\":1, \"pdf_source\":1, \"_id\":0}\n",
    "\n",
    "resultados = list(collection.find(consulta, parametros).limit(15))\n",
    "\n",
    "# Add PDF links to the DataFrame\n",
    "df = pd.DataFrame(resultados)\n",
    "df['pdf_source'] = df['title'].apply(lambda x: f\"https://arxiv.org/pdf/{x.replace(' ', '_')}.pdf\")\n",
    "\n",
    "print(df)"
   ]
  },
  {
   "cell_type": "markdown",
   "metadata": {},
   "source": [
    "d. Devolver los títulos, nombres de los autores y la referencia de publicación (journal-ref)\n",
    "de los artículos que tengan un DOI asignado. Mostrar solo esos campos y ordenar los\n",
    "resultados alfabéticamente por título. Limitar a los primeros 20 resultados."
   ]
  },
  {
   "cell_type": "code",
   "execution_count": 27,
   "metadata": {},
   "outputs": [
    {
     "name": "stdout",
     "output_type": "stream",
     "text": [
      "                                              authors  \\\n",
      "0   Aleks Kissinger (University of Oxford), Vladim...   \n",
      "1              Oscar Henriksson and Christopher Rosen   \n",
      "2   Olga Zagovora (1), Fabian Fl\\\"ock (1), Claudia...   \n",
      "3   Stavros Mouslopoulos and Antonios Papazoglou (...   \n",
      "4     K.S. Babu, Jogesh C. Pati and Hanns Stremnitzer   \n",
      "5   Paola Bacigaluppi, R\\'emi Abgrall and Svetlana...   \n",
      "6                                       V. Karimipour   \n",
      "7                                  Gabriella De Lucia   \n",
      "8          Julie Nutini, Mark Schmidt and Warren Hare   \n",
      "9                   Matthieu Gaudet and Steve Arscott   \n",
      "10  Florentin Millour (MPIFR), Bruno Valat (FIZEAU...   \n",
      "11  Mo Houtti, Moyan Zhou, Loren Terveen, and Stev...   \n",
      "12                                    Emilio Elizalde   \n",
      "13                                       Adan Cabello   \n",
      "14  C. Cinelli, M. Barbieri, R. Perris, P. Matalon...   \n",
      "15  Shashank Gupta, Debarshi Das, C. Jebarathinam,...   \n",
      "16  Daniel Franzen (1), Saskia Nu\\~nez von Voigt (...   \n",
      "17  Veera Vimpari, Annakaisa Kultima, Perttu H\\\"am...   \n",
      "18  Bingqing Yu, Jacopo Tagliabue, Ciro Greco and ...   \n",
      "19                            K.S. Babu and S.M. Barr   \n",
      "\n",
      "                                                title  \\\n",
      "0      !-Graphs with Trivial Overlap are Context-Free   \n",
      "1   \"$1k_F$\" Singularities and Finite Density ABJM...   \n",
      "2   \"(Weitergeleitet von Journalistin)\": The Gende...   \n",
      "3                     \"+-+\" Brane Model Phenomenology   \n",
      "4   \"A Hint From the Inter-Family Mass Hierarchy: ...   \n",
      "5   \"A Posteriori\" Limited High Order and Robust R...   \n",
      "6   \"A Solvable Hamiltonian System\" Integrability ...   \n",
      "7   \"Ab initio\" models of galaxy formation: succes...   \n",
      "8   \"Active-set complexity\" of proximal gradient: ...   \n",
      "9   \"Actuation at a distance\" of microelectromecha...   \n",
      "10  \"Advanced\" data reduction for the AMBER instru...   \n",
      "11  \"All of the White People Went First\": How Vide...   \n",
      "12  \"All that matter ... in one Big Bang ...,\" & o...   \n",
      "13  \"All versus nothing\" inseparability for two ob...   \n",
      "14  \"All-versus-nothing\" nonlocality test of quant...   \n",
      "15  \"All-versus-nothing\" proof of genuine triparti...   \n",
      "16  \"Am I Private and If So, how Many?\" - Communic...   \n",
      "17  \"An Adapt-or-Die Type of Situation\": Perceptio...   \n",
      "18  \"An Image is Worth a Thousand Features\": Scala...   \n",
      "19  \"An SO(10) Solution to the Puzzle of Quark and...   \n",
      "\n",
      "                                          journal-ref  \n",
      "0                          EPTCS 181, 2015, pp. 16-31  \n",
      "1                                                None  \n",
      "2                                                None  \n",
      "3                                JHEP 0011 (2000) 018  \n",
      "4                         Phys.Rev.D51:2451-2462,1995  \n",
      "5                                                None  \n",
      "6                    J.Math.Phys. 38 (1997) 1577-1582  \n",
      "7                                                None  \n",
      "8                                                None  \n",
      "9                Appl. Phys. Lett. 100, 224103 (2012)  \n",
      "10                                               None  \n",
      "11                                               None  \n",
      "12                               Galaxies 2018, 6, 25  \n",
      "13                  Phys. Rev. Lett. 87 (2001) 010403  \n",
      "14                 Phys. Rev. Lett. 95, 240405 (2005)  \n",
      "15      Quantum Stud.: Math. Found. 9, 175-198 (2022)  \n",
      "16                                               None  \n",
      "17  Proc. ACM Hum.-Comput. Interact., Vol. 7, No. ...  \n",
      "18                                               None  \n",
      "19                    Phys.Rev.Lett.75:2088-2091,1995  \n"
     ]
    }
   ],
   "source": [
    "from pymongo import MongoClient\n",
    "import pandas as pd\n",
    "\n",
    "pd.set_option('display.max_colwidth', 50)\n",
    "\n",
    "client = MongoClient(\n",
    "    'mongodb://localhost:30001,localhost:30002,localhost:30003/?replicaSet=my-replica-set'\n",
    ")\n",
    "db = client[\"arxiv_db\"]\n",
    "collection = db[\"articles\"]\n",
    "\n",
    "consulta = {\"doi\":{\"$exists\":True,\"$ne\":None}}\n",
    "parametros = {\"title\":1, \"authors\":1, \"journal-ref\":1, \"_id\":0}\n",
    "\n",
    "resultados = list(collection.find(consulta, parametros).limit(20).sort(\"title\", 1))\n",
    "\n",
    "print(pd.DataFrame(resultados))"
   ]
  },
  {
   "cell_type": "markdown",
   "metadata": {},
   "source": [
    "e. Devolver los títulos y la fecha de la primera versión (versions.created) de los artículos\n",
    "enviados entre los años 2010 y 2015. Mostrar solo esos campos y limitar a los primeros 15\n",
    "resultados."
   ]
  },
  {
   "cell_type": "code",
   "execution_count": 10,
   "metadata": {},
   "outputs": [
    {
     "name": "stdout",
     "output_type": "stream",
     "text": [
      "                                                title                     year\n",
      "0   A landscape of non-supersymmetric AdS vacua on...  4 Jan 2010 13:51:46 GMT\n",
      "1               Jet Shapes and Jet Algorithms in SCET  4 Jan 2010 20:56:57 GMT\n",
      "2   A Comprehensive Analysis of Uncertainties Affe...  3 Jan 2010 19:43:29 GMT\n",
      "3   Testing product states, quantum Merlin-Arthur ...  4 Jan 2010 18:01:41 GMT\n",
      "4               Mu-Tau Production at Hadron Colliders  4 Jan 2010 04:10:52 GMT\n",
      "5   New identities involving q-Euler polynomials o...  4 Jan 2010 15:34:13 GMT\n",
      "6   Strong Constraints to the Putative Planet Cand...  1 Jan 2010 00:07:58 GMT\n",
      "7   Arrested phase separation in reproducing bacte...  4 Jan 2010 19:56:03 GMT\n",
      "8              Euclid Imaging Consortium Science Book  4 Jan 2010 15:34:42 GMT\n",
      "9            Bayesian Methods and Universal Darwinism  4 Jan 2010 17:01:57 GMT\n",
      "10  News on PHOTOS Monte Carlo: gamma^* -> pi^+ pi...  4 Jan 2010 15:50:15 GMT\n",
      "11                  Nonmeasurability in Banach spaces  4 Jan 2010 16:31:26 GMT\n",
      "12  Rigid Symmetries and Conservation Laws in Non-...  4 Jan 2010 12:30:50 GMT\n",
      "13  The quadratic character of 1+\\sqrt{2} and an e...  3 Jan 2010 04:16:44 GMT\n",
      "14  Collapsing and Separating Completeness Notions...  4 Jan 2010 20:55:05 GMT\n"
     ]
    }
   ],
   "source": [
    "from pymongo import MongoClient\n",
    "import pandas as pd\n",
    "\n",
    "pd.set_option('display.max_colwidth', 50)\n",
    "\n",
    "client = MongoClient(\n",
    "    'mongodb://localhost:30001,localhost:30002,localhost:30003/?replicaSet=my-replica-set'\n",
    ")\n",
    "db = client[\"arxiv_db\"]\n",
    "collection = db[\"articles\"]\n",
    "\n",
    "# nos vamos a la primera version del articulo en el indice 0 del array\n",
    "consulta = {\"versions.0.created\":{\"$regex\":\"2010|2011|2012|2013|2014|2015\"}}\n",
    "parametros = {\"title\":1, \"versions\":1,\"_id\":0}\n",
    "\n",
    "resultados = list(collection.find(consulta, parametros).limit(15))\n",
    "\n",
    "# Extract year from 'created' field\n",
    "def extract_year(versions):\n",
    "    if versions and 'created' in versions[0]:\n",
    "        return versions[0]['created'].split(',')[-1].strip()\n",
    "    return None\n",
    "\n",
    "df = pd.DataFrame(resultados)\n",
    "df['year'] = df['versions'].apply(extract_year)\n",
    "\n",
    "print(df[['title', 'year']])"
   ]
  },
  {
   "cell_type": "markdown",
   "metadata": {},
   "source": [
    "f. Devolver los títulos, comentarios y reportes técnicos (report-no) de artículos que tengan comentarios definidos y no nulos. Mostrar solo esos campos, ordenando por fecha de actualización (update_date) en orden descendente. Limitar a 10 resultados."
   ]
  },
  {
   "cell_type": "code",
   "execution_count": 11,
   "metadata": {},
   "outputs": [
    {
     "name": "stdout",
     "output_type": "stream",
     "text": [
      "                                               title  \\\n",
      "0  The Filippov characteristic flow for the aggre...   \n",
      "1  A currently true statement G of the form \"$\\ex...   \n",
      "2  Effect of Tensile Strain in GaN Layer on the B...   \n",
      "3     A Proof of the truth of the Riemann hypothesis   \n",
      "4               The nature of electromagnetic energy   \n",
      "5  On the global existence and blowup of smooth s...   \n",
      "6  Sturm-Liouville and Carroll: at the heart of t...   \n",
      "7  Conditions for Solvability in Chemical Reactio...   \n",
      "8  Quantum Entanglement Dynamics of Spacetime and...   \n",
      "9            The information-complete quantum theory   \n",
      "\n",
      "                                            comments report-no  \n",
      "0                                           33 pages      None  \n",
      "1  presented at the 25th Conference Applications ...      None  \n",
      "2                                 3 pages, 4 figures      None  \n",
      "3                                         in Russian      None  \n",
      "4  The previous version had a number of mistakes,...      None  \n",
      "5                                32 pages, 2 figures      None  \n",
      "6                              affiliation corrected      None  \n",
      "7                                25 pages, 3 figures      None  \n",
      "8  17 pages, 1 figure; published version. Comment...      None  \n",
      "9  12 pages+1 figure; updated version; comments a...      None  \n"
     ]
    }
   ],
   "source": [
    "from pymongo import MongoClient\n",
    "import pandas as pd\n",
    "\n",
    "pd.set_option('display.max_colwidth', 50)\n",
    "\n",
    "client = MongoClient(\n",
    "    'mongodb://localhost:30001,localhost:30002,localhost:30003/?replicaSet=my-replica-set'\n",
    ")\n",
    "db = client[\"arxiv_db\"]\n",
    "collection = db[\"articles\"]\n",
    "\n",
    "# Consulta: comentarios definidos y no nulos\n",
    "consulta = {\n",
    "    \"comments\": {\"$exists\": True, \"$ne\": None}\n",
    "}\n",
    "parametros = {\"title\": 1, \"comments\": 1, \"report-no\": 1, \"_id\": 0}\n",
    "\n",
    "resultados = list(\n",
    "    collection.find(consulta, parametros)\n",
    "    .sort(\"update_date\", -1)\n",
    "    .limit(10)\n",
    ")\n",
    "\n",
    "df = pd.DataFrame(resultados)\n",
    "print(df)"
   ]
  }
 ],
 "metadata": {
  "kernelspec": {
   "display_name": "Python 3",
   "language": "python",
   "name": "python3"
  },
  "language_info": {
   "codemirror_mode": {
    "name": "ipython",
    "version": 3
   },
   "file_extension": ".py",
   "mimetype": "text/x-python",
   "name": "python",
   "nbconvert_exporter": "python",
   "pygments_lexer": "ipython3",
   "version": "3.10.11"
  }
 },
 "nbformat": 4,
 "nbformat_minor": 4
}
